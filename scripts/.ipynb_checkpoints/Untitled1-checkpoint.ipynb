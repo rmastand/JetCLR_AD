{
 "cells": [
  {
   "cell_type": "code",
   "execution_count": 4,
   "id": "0056ffe0",
   "metadata": {},
   "outputs": [
    {
     "name": "stdout",
     "output_type": "stream",
     "text": [
      "0 0.0\n",
      "10 0.02\n",
      "50 0.1\n",
      "100 0.2\n",
      "500 1.0\n",
      "1000 2.0\n",
      "5000 10.0\n",
      "10000 20.0\n",
      "25000 50.0\n",
      "50000 100.0\n"
     ]
    }
   ],
   "source": [
    "trials = [0, 10, 50, 100, 500, 1000, 5000, 10000, 25000, 50000]\n",
    "\n",
    "for i in trials:\n",
    "    \n",
    "    print(i, 100.0*i/50000.0)\n",
    "    \n",
    "trials_dict = {0:0, 10:0, 50:2, 100:3, 500:3, 1000:3, 5000:3, 10000:3, 25000:2, 50000:2}"
   ]
  },
  {
   "cell_type": "code",
   "execution_count": null,
   "id": "5da01269",
   "metadata": {},
   "outputs": [],
   "source": []
  }
 ],
 "metadata": {
  "kernelspec": {
   "display_name": "Python 3",
   "language": "python",
   "name": "python3"
  },
  "language_info": {
   "codemirror_mode": {
    "name": "ipython",
    "version": 3
   },
   "file_extension": ".py",
   "mimetype": "text/x-python",
   "name": "python",
   "nbconvert_exporter": "python",
   "pygments_lexer": "ipython3",
   "version": "3.6.8"
  }
 },
 "nbformat": 4,
 "nbformat_minor": 5
}
