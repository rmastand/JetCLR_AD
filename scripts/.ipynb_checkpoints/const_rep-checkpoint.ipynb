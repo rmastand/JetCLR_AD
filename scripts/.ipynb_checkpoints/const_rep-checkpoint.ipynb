{
 "cells": [
  {
   "cell_type": "code",
   "execution_count": 5,
   "id": "7e80fafd-9a03-435d-a5eb-d6132a9012e3",
   "metadata": {},
   "outputs": [],
   "source": [
    "import sys\n",
    "# load standard python modules\n",
    "import os\n",
    "import numpy as np\n",
    "import matplotlib.pyplot as plt\n",
    "import random\n",
    "import time\n",
    "import pandas as pd\n",
    "from sklearn.model_selection import train_test_split\n",
    "from sklearn.utils import shuffle\n",
    "from sklearn.linear_model import LinearRegression\n",
    "from sklearn.linear_model import Ridge\n",
    "from sklearn.metrics import roc_auc_score\n",
    "from sklearn.metrics import roc_curve\n",
    "from sklearn.linear_model import ElasticNet\n",
    "\n",
    "# load torch modules\n",
    "import torch\n",
    "import torch.nn as nn\n",
    "import torch.nn.functional as F\n",
    "\n",
    "from modules.jet_augs import crop_jets, remove_jet_and_rescale_pT\n",
    "from modules.neural_net import create_and_run_nn\n",
    "\n",
    "torch.manual_seed(0)\n",
    "random.seed(0)\n",
    "np.random.seed(0)\n",
    "torch.cuda.empty_cache()\n",
    "\n",
    "\n",
    "from numba import cuda \n",
    "device = cuda.get_current_device()\n",
    "device.reset()\n"
   ]
  },
  {
   "cell_type": "code",
   "execution_count": 7,
   "id": "82c7ac9c-3b98-4534-bb70-66b0aa2d4f68",
   "metadata": {},
   "outputs": [
    {
     "name": "stdout",
     "output_type": "stream",
     "text": [
      "device: cuda\n",
      "experiment: dijet_dim_scan_21_07_12/test/\n"
     ]
    }
   ],
   "source": [
    "# More parameters / computing setup\n",
    "\n",
    "# set the number of threads that pytorch will use\n",
    "torch.set_num_threads(2)\n",
    "\n",
    "exp_id = \"dijet_dim_scan_21_07_12/test/\"\n",
    "\n",
    "# set gpu device\n",
    "device = torch.device( \"cuda\" if torch.cuda.is_available() else \"cpu\")\n",
    "print( \"device: \" + str( device ), flush=True)\n",
    "\n",
    "# set up results directory\n",
    "base_dir = \"/global/home/users/rrmastandrea/MJetCLR/\"  # change this to your working directory\n",
    "expt_dir = base_dir + \"projects/rep_learning/experiments/\" + exp_id + \"/\"\n",
    "\n",
    "#check if experiment alreadyexists\n",
    "if os.path.isdir(expt_dir):\n",
    "    print(\"ERROR: experiment already exists, don't want to overwrite it by mistake\")\n",
    "    pass\n",
    "else:\n",
    "    os.makedirs(expt_dir)\n",
    "\n",
    "print(\"experiment: \"+str(exp_id) , flush=True)\n"
   ]
  },
  {
   "cell_type": "code",
   "execution_count": 8,
   "id": "6c908390",
   "metadata": {},
   "outputs": [
    {
     "name": "stdout",
     "output_type": "stream",
     "text": [
      "/global/home/users/rrmastandrea/training_data/n_sig_18918_n_bkg_20000_n_nonzero_50_n_pad_0_n_jet_2/\n",
      "BC training data shape: (27242, 3, 100)\n",
      "BC training labels shape: (27242,)\n",
      "BC val data shape: (7005, 3, 100)\n",
      "BC val labels shape: (7005,)\n",
      "BC test data shape: (4671, 3, 100)\n",
      "BC test labels shape: (4671,)\n"
     ]
    }
   ],
   "source": [
    "path_to_save_dir = \"/global/home/users/rrmastandrea/training_data/\"\n",
    "save_id_dir = \"n_sig_18918_n_bkg_20000_n_nonzero_50_n_pad_0_n_jet_2/\"\n",
    "\n",
    "grading = 50\n",
    "n_constits_max = 50\n",
    "n_jets = 2\n",
    "\n",
    "path_to_data = path_to_save_dir+save_id_dir\n",
    "print(path_to_data)\n",
    "\n",
    "\n",
    "data_train = np.load(path_to_data+\"data_train.npy\")\n",
    "labels_train = np.load(path_to_data+\"labels_train.npy\")\n",
    "data_val = np.load(path_to_data+\"data_val.npy\")\n",
    "labels_val = np.load(path_to_data+\"labels_val.npy\")\n",
    "data_test_f = np.load(path_to_data+\"data_test_f.npy\")\n",
    "labels_test_f = np.load(path_to_data+\"labels_test_f.npy\")\n",
    "\n",
    "# rescale\n",
    "data_train = remove_jet_and_rescale_pT(data_train, n_jets)\n",
    "data_val = remove_jet_and_rescale_pT(data_val, n_jets)\n",
    "data_test_f = remove_jet_and_rescale_pT(data_test_f, n_jets)\n",
    "\n",
    "\n",
    "\n",
    "# print data dimensions\n",
    "print( \"BC training data shape: \" + str( data_train.shape ), flush=True)\n",
    "print( \"BC training labels shape: \" + str( labels_train.shape ), flush=True)\n",
    "print( \"BC val data shape: \" + str( data_val.shape ), flush=True)\n",
    "print( \"BC val labels shape: \" + str( labels_val.shape ), flush=True)\n",
    "print( \"BC test data shape: \" + str( data_test_f.shape ), flush=True)\n",
    "print( \"BC test labels shape: \" + str( labels_test_f.shape ), flush=True)\n",
    "\n",
    "\n",
    "# Plot num constituents\n",
    "\n",
    "def get_num_constits(dataset):\n",
    "    consits_list = []\n",
    "    for collision in dataset:\n",
    "        pts = collision[0,:]\n",
    "\n",
    "        pads = np.where(pts==0)\n",
    "        consits_list.append(dataset.shape[2]-len(pads[0]))\n",
    "        \n",
    "    return consits_list\n",
    "        "
   ]
  },
  {
   "cell_type": "markdown",
   "id": "f9cb541e-a274-47d7-8399-af37e0acf096",
   "metadata": {},
   "source": [
    "# Run final LCT, NN on the constituent representations"
   ]
  },
  {
   "cell_type": "code",
   "execution_count": 27,
   "id": "f065e8a7-3352-4162-a9e6-dd94d98be60d",
   "metadata": {
    "scrolled": false
   },
   "outputs": [
    {
     "name": "stdout",
     "output_type": "stream",
     "text": [
      "(27242, 3, 50)\n",
      "Doing a LCT...\n",
      "[ 0.  0.  0.  0.  0.  0.  0.  0.  0.  0.  0.  0.  0.  0.  0.  0.  0.  0.\n",
      "  0.  0.  0.  0.  0.  0.  0.  0.  0.  0.  0.  0.  0.  0.  0.  0.  0.  0.\n",
      "  0.  0.  0. -0. -0. -0. -0. -0. -0. -0. -0. -0. -0. -0. -0. -0. -0. -0.\n",
      " -0. -0. -0. -0. -0. -0. -0. -0. -0. -0. -0. -0. -0.  0. -0. -0. -0. -0.\n",
      "  0. -0. -0. -0. -0. -0. -0. -0. -0. -0. -0. -0.  0. -0. -0.  0. -0.  0.\n",
      " -0. -0. -0. -0. -0. -0. -0. -0. -0. -0.  0. -0.  0.  0. -0. -0. -0.  0.\n",
      " -0. -0.  0.  0. -0.  0.  0.  0.  0.  0.  0.  0.  0.  0.  0.  0.  0.  0.\n",
      "  0.  0.  0.  0.  0.  0.  0.  0.  0.  0.  0.  0.  0.  0.  0.  0. -0. -0.\n",
      " -0. -0. -0. -0. -0. -0.]\n",
      "[0.48608766 0.48608766 0.48608766 ... 0.48608766 0.48608766 0.48608766]\n",
      "0.5\n"
     ]
    },
    {
     "name": "stderr",
     "output_type": "stream",
     "text": [
      "/global/home/users/rrmastandrea/computingML2/lib64/python3.6/site-packages/ipykernel_launcher.py:43: RuntimeWarning: divide by zero encountered in true_divide\n"
     ]
    },
    {
     "data": {
      "image/png": "[encoded data removed]",
      "text/plain": [
       "<Figure size 432x288 with 1 Axes>"
      ]
     },
     "metadata": {
      "needs_background": "light"
     },
     "output_type": "display_data"
    },
    {
     "name": "stdout",
     "output_type": "stream",
     "text": [
      "LCT data saved\n"
     ]
    },
    {
     "data": {
      "text/plain": [
       "'\\nprint()\\n\\nprint(\"Doing a NN...\")\\nnum_epochs_nn = 400\\nbatch_size_nn = 400\\nupdate_epochs_nn = 10\\ninput_shape = 3*constit_num\\n#update_epochs_nn = 20\\nlr_nn = 0.0001\\n\\n\\n\\nperformance_stats_nn = create_and_run_nn(device, input_shape, num_epochs_nn, batch_size_nn, update_epochs_nn,lr_nn, \\n                                         data_train_nn, labels_train, \\n                      data_val_nn, labels_val,\\n                      data_test_nn, labels_test_f, True)\\n\\n# Plot the output losses   \\nplt.figure()\\nplt.plot(performance_stats_nn[\"epochs\"],performance_stats_nn[\"losses\"], label = \"loss\")\\nplt.plot(performance_stats_nn[\"val_epochs\"],performance_stats_nn[\"val_losses\"], label = \"val loss\")\\nplt.xlabel(\"Epochs\")\\nplt.ylabel(\"Losses\")\\nplt.yscale(\"log\")\\nplt.legend()\\nplt.title(\"Const. Rep NN\")\\nplt.show()\\n\\nplt.figure()\\nplt.plot(performance_stats_nn[\"tpr\"], 1.0/performance_stats_nn[\"fpr\"])\\nplt.yscale(\"log\")\\nplt.xlabel(\"True Positive Rate\")\\nplt.ylabel(\"1/(False Positive Rate)\")\\nplt.title(\"Const. Rep NN\")\\nplt.show()\\n\\nnp.save( expt_dir+\"const_rep_nn_tpr_\"+str(constit_num)+\".npy\", performance_stats_nn[\"tpr\"] )\\nnp.save( expt_dir+\"const_rep_nn_fpr_\"+str(constit_num)+\".npy\", performance_stats_nn[\"fpr\"] )\\n\\nprint(\"Accuracy of the network: %d %%\" % (100.00 *performance_stats_nn[\"acc\"]))\\nprint(\"ROC AUC:\", performance_stats_nn[\"auc\"])\\n'"
      ]
     },
     "execution_count": 27,
     "metadata": {},
     "output_type": "execute_result"
    }
   ],
   "source": [
    "# with the constituent set (pt, eta, phi)\n",
    "\n",
    "constit_num = grading\n",
    "\n",
    "# prepare the data\n",
    "data_train_nn = crop_jets(data_train, constit_num)\n",
    "data_val_nn = crop_jets(data_val, constit_num)\n",
    "data_test_nn = crop_jets(data_test_f, constit_num)\n",
    "\n",
    "print(data_train_nn.shape)\n",
    "\n",
    "\n",
    "\n",
    "lct_train = np.reshape(data_train_nn,(data_train_nn.shape[0],3*constit_num))\n",
    "lct_test = np.reshape(data_test_nn,(data_test_nn.shape[0],3*constit_num))\n",
    "\n",
    "\n",
    "\n",
    "\n",
    "print(\"Doing a LCT...\")\n",
    "#lc = LinearRegression()\n",
    "lc = Ridge(alpha = 1)\n",
    "lc.fit(lct_train, labels_train)\n",
    "# make the prediction\n",
    "predictions = lc.predict(lct_test)\n",
    "fpr, tpr, _ = roc_curve(labels_test_f, predictions)\n",
    "\n",
    "auc = roc_auc_score(labels_test_f, predictions)\n",
    "\n",
    "print(auc)\n",
    "\n",
    "plt.figure()\n",
    "plt.plot(tpr, 1.0/fpr)\n",
    "plt.yscale(\"log\")\n",
    "plt.xlabel(\"True Positive Rate\")\n",
    "plt.ylabel(\"1/(False Positive Rate)\")\n",
    "plt.title(\"Const. Rep LCT\")\n",
    "plt.show()\n",
    "\n",
    "\n",
    "np.save( expt_dir+\"const_rep_lct_fpr_\"+str(constit_num)+\".npy\", fpr )\n",
    "np.save( expt_dir+\"const_rep_lct_tpr_\"+str(constit_num)+\".npy\", tpr )\n",
    "print(\"LCT data saved\")\n",
    "\n",
    "\n",
    "\"\"\"\n",
    "print()\n",
    "\n",
    "print(\"Doing a NN...\")\n",
    "num_epochs_nn = 400\n",
    "batch_size_nn = 400\n",
    "update_epochs_nn = 10\n",
    "input_shape = 3*constit_num\n",
    "#update_epochs_nn = 20\n",
    "lr_nn = 0.0001\n",
    "\n",
    "\n",
    "\n",
    "performance_stats_nn = create_and_run_nn(device, input_shape, num_epochs_nn, batch_size_nn, update_epochs_nn,lr_nn, \n",
    "                                         data_train_nn, labels_train, \n",
    "                      data_val_nn, labels_val,\n",
    "                      data_test_nn, labels_test_f, True)\n",
    "\n",
    "# Plot the output losses   \n",
    "plt.figure()\n",
    "plt.plot(performance_stats_nn[\"epochs\"],performance_stats_nn[\"losses\"], label = \"loss\")\n",
    "plt.plot(performance_stats_nn[\"val_epochs\"],performance_stats_nn[\"val_losses\"], label = \"val loss\")\n",
    "plt.xlabel(\"Epochs\")\n",
    "plt.ylabel(\"Losses\")\n",
    "plt.yscale(\"log\")\n",
    "plt.legend()\n",
    "plt.title(\"Const. Rep NN\")\n",
    "plt.show()\n",
    "\n",
    "plt.figure()\n",
    "plt.plot(performance_stats_nn[\"tpr\"], 1.0/performance_stats_nn[\"fpr\"])\n",
    "plt.yscale(\"log\")\n",
    "plt.xlabel(\"True Positive Rate\")\n",
    "plt.ylabel(\"1/(False Positive Rate)\")\n",
    "plt.title(\"Const. Rep NN\")\n",
    "plt.show()\n",
    "\n",
    "np.save( expt_dir+\"const_rep_nn_tpr_\"+str(constit_num)+\".npy\", performance_stats_nn[\"tpr\"] )\n",
    "np.save( expt_dir+\"const_rep_nn_fpr_\"+str(constit_num)+\".npy\", performance_stats_nn[\"fpr\"] )\n",
    "\n",
    "print(\"Accuracy of the network: %d %%\" % (100.00 *performance_stats_nn[\"acc\"]))\n",
    "print(\"ROC AUC:\", performance_stats_nn[\"auc\"])\n",
    "\"\"\"\n"
   ]
  },
  {
   "cell_type": "code",
   "execution_count": null,
   "id": "45c1ad8f-d110-4896-b89e-e69e603adaf0",
   "metadata": {},
   "outputs": [],
   "source": []
  },
  {
   "cell_type": "code",
   "execution_count": null,
   "id": "fca05eca-25ef-4c41-94bb-404aaae36882",
   "metadata": {},
   "outputs": [],
   "source": []
  },
  {
   "cell_type": "code",
   "execution_count": null,
   "id": "cffee9e5-937c-475d-ab53-ba53f2f6dd20",
   "metadata": {},
   "outputs": [],
   "source": []
  },
  {
   "cell_type": "code",
   "execution_count": null,
   "id": "0b948293-9a47-477f-a50a-9cb1375a1a6a",
   "metadata": {},
   "outputs": [],
   "source": []
  },
  {
   "cell_type": "code",
   "execution_count": null,
   "id": "e7d393ec-4032-4883-9c2b-f59549a851d8",
   "metadata": {},
   "outputs": [],
   "source": []
  },
  {
   "cell_type": "code",
   "execution_count": null,
   "id": "7f88324d-16ea-4802-8f72-acd1637ee254",
   "metadata": {},
   "outputs": [],
   "source": []
  },
  {
   "cell_type": "code",
   "execution_count": null,
   "id": "c9b5b18c-c754-4d6f-96e2-e6ceb3ea72c4",
   "metadata": {},
   "outputs": [],
   "source": []
  },
  {
   "cell_type": "code",
   "execution_count": null,
   "id": "d348acf4",
   "metadata": {},
   "outputs": [],
   "source": []
  }
 ],
 "metadata": {
  "kernelspec": {
   "display_name": "Python 3",
   "language": "python",
   "name": "python3"
  },
  "language_info": {
   "codemirror_mode": {
    "name": "ipython",
    "version": 3
   },
   "file_extension": ".py",
   "mimetype": "text/x-python",
   "name": "python",
   "nbconvert_exporter": "python",
   "pygments_lexer": "ipython3",
   "version": "3.6.8"
  }
 },
 "nbformat": 4,
 "nbformat_minor": 5
}
