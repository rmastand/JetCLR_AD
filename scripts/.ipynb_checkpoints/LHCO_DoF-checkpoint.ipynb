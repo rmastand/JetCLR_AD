{
 "cells": [
  {
   "cell_type": "markdown",
   "id": "c6e7530f",
   "metadata": {},
   "source": [
    "A notebook to check the actual dimensionality of the LHCO dataset"
   ]
  },
  {
   "cell_type": "code",
   "execution_count": null,
   "id": "f316c2d8",
   "metadata": {},
   "outputs": [],
   "source": [
    "# standard imports\n",
    "import sys\n",
    "import os\n",
    "import numpy as np\n",
    "import matplotlib.pyplot as plt\n",
    "import pandas as pd"
   ]
  },
  {
   "cell_type": "code",
   "execution_count": null,
   "id": "6409b80d",
   "metadata": {},
   "outputs": [],
   "source": [
    "# specific imports\n",
    "from modules.file_readers import phi_wrap, pandas_to_unclustered_particles, get_highest_mass_constituents, pandas_to_features, select_jets_1, select_jets_2 \n",
    "\n",
    "# path to LHCO data\n",
    "path_to_unclustered = \"/clusterfs/ml4hep/rrmastandrea/LHC0/events_anomalydetection.h5\""
   ]
  },
  {
   "cell_type": "code",
   "execution_count": null,
   "id": "dcd992fa",
   "metadata": {},
   "outputs": [],
   "source": [
    "begin = 0\n",
    "end = 100000000000\n",
    "delta = end\n",
    "\n",
    "\n",
    "for start in range(begin,end,delta):\n",
    "    stop = start + delta\n",
    "\n",
    "    print(\"Reading in lines\", start, \"to\", stop, \"of dataset ...\")\n",
    "\n",
    "    # Read in the file\n",
    "    unclustered_particles_data = pd.read_hdf(path_to_unclustered,start = start, stop = stop)\n",
    "    \n",
    "    # get the number of nonzero values in each row\n",
    "    nonzero_values = unclustered_particles_data.astype(bool).sum(axis=1)\n",
    "    \n",
    "    # convert to a list\n",
    "    nonzero_values = list(nonzero_counts)\n",
    "\n",
    "print(\"Done\")\n",
    "    \n"
   ]
  },
  {
   "cell_type": "code",
   "execution_count": null,
   "id": "cc51f899",
   "metadata": {},
   "outputs": [],
   "source": [
    "plt.figure()\n",
    "plt.hist(nonzero_conts)\n",
    "plt.show()"
   ]
  },
  {
   "cell_type": "code",
   "execution_count": null,
   "id": "e1f0a60a",
   "metadata": {},
   "outputs": [],
   "source": [
    "print(\"Mean # particles / collision:\", np.mean(nonzero_conts))\n",
    "print(\"Std dev # particles / collision:\", np.std(nonzero_conts))"
   ]
  },
  {
   "cell_type": "code",
   "execution_count": null,
   "id": "1183d8f0",
   "metadata": {},
   "outputs": [],
   "source": []
  }
 ],
 "metadata": {
  "kernelspec": {
   "display_name": "Python 3",
   "language": "python",
   "name": "python3"
  },
  "language_info": {
   "codemirror_mode": {
    "name": "ipython",
    "version": 3
   },
   "file_extension": ".py",
   "mimetype": "text/x-python",
   "name": "python",
   "nbconvert_exporter": "python",
   "pygments_lexer": "ipython3",
   "version": "3.6.8"
  }
 },
 "nbformat": 4,
 "nbformat_minor": 5
}
