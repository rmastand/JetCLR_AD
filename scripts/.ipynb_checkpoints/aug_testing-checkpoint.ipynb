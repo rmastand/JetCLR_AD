{
 "cells": [
  {
   "cell_type": "code",
   "execution_count": 1,
   "id": "7e80fafd-9a03-435d-a5eb-d6132a9012e3",
   "metadata": {},
   "outputs": [],
   "source": [
    "import sys\n",
    "# load standard python modules\n",
    "import os\n",
    "import numpy as np\n",
    "import matplotlib.pyplot as plt\n",
    "import random\n",
    "import time\n",
    "import pandas as pd\n",
    "from sklearn.model_selection import train_test_split\n",
    "from sklearn.utils import shuffle\n",
    "from sklearn.linear_model import LinearRegression\n",
    "from sklearn.metrics import roc_auc_score\n",
    "from sklearn.metrics import roc_curve\n",
    "\n",
    "\n",
    "# load custom modules required for jetCLR training\n",
    "from modules.jet_augs import apply_single_jet_augs, translate_jets, rotate_jets, rescale_pts, distort_jets, collinear_fill_jets, crop_jets\n",
    "from modules.jet_augs import shift_eta, shift_phi\n",
    "from modules.perf_eval import get_perf_stats, linear_classifier_test, plot_losses\n",
    "from modules.jet_visualizers import plot_jets_phase_plane, plot_nsubs, plot_mj, plot_mjj\n"
   ]
  },
  {
   "cell_type": "markdown",
   "id": "0f768aa5",
   "metadata": {},
   "source": [
    "# Load in the processed data"
   ]
  },
  {
   "cell_type": "code",
   "execution_count": 2,
   "id": "d5078731",
   "metadata": {},
   "outputs": [
    {
     "name": "stdout",
     "output_type": "stream",
     "text": [
      "/global/home/users/rrmastandrea/training_data/n_sig_4030_n_bkg_8000_n_nonzero_50_n_pad_0_n_jet_2/\n",
      "CLR training data shape: (9624, 3, 102)\n",
      "CLR val data shape: (2406, 3, 102)\n",
      "BC training data shape: (8421, 3, 102)\n",
      "BC training labels shape: (8421,)\n",
      "BC val data shape: (1804, 3, 102)\n",
      "BC val labels shape: (1804,)\n",
      "BC test data shape: (1804, 3, 102)\n",
      "BC test labels shape: (1804,)\n"
     ]
    }
   ],
   "source": [
    "path_to_save_dir = \"/global/home/users/rrmastandrea/training_data/\"\n",
    "\n",
    "\n",
    "save_id_dir = \"n_sig_4030_n_bkg_8000_n_nonzero_50_n_pad_0_n_jet_2/\"\n",
    "\n",
    "grading = 50\n",
    "\n",
    "path_to_data = path_to_save_dir+save_id_dir\n",
    "print(path_to_data)\n",
    "\n",
    "\n",
    "clr_train = np.load(path_to_data+\"clr_train.npy\")\n",
    "clr_val = np.load(path_to_data+\"clr_val.npy\")\n",
    "data_train = np.load(path_to_data+\"data_train.npy\")\n",
    "labels_train = np.load(path_to_data+\"labels_train.npy\")\n",
    "data_val = np.load(path_to_data+\"data_val.npy\")\n",
    "labels_val = np.load(path_to_data+\"labels_val.npy\")\n",
    "data_test_f = np.load(path_to_data+\"data_test_f.npy\")\n",
    "labels_test_f = np.load(path_to_data+\"labels_test_f.npy\")\n",
    "\n",
    "# print data dimensions\n",
    "print( \"CLR training data shape: \" + str( clr_train.shape ), flush=True)\n",
    "print( \"CLR val data shape: \" + str( clr_val.shape ), flush=True)\n",
    "print( \"BC training data shape: \" + str( data_train.shape ), flush=True)\n",
    "print( \"BC training labels shape: \" + str( labels_train.shape ), flush=True)\n",
    "print( \"BC val data shape: \" + str( data_val.shape ), flush=True)\n",
    "print( \"BC val labels shape: \" + str( labels_val.shape ), flush=True)\n",
    "print( \"BC test data shape: \" + str( data_test_f.shape ), flush=True)\n",
    "print( \"BC test labels shape: \" + str( labels_test_f.shape ), flush=True)\n",
    "\n",
    "\n",
    "# Plot num constituents\n",
    "\n",
    "def get_num_constits(dataset):\n",
    "    consits_list = []\n",
    "    for collision in dataset:\n",
    "        pts = collision[0,:]\n",
    "\n",
    "        pads = np.where(pts==0)\n",
    "        consits_list.append(dataset.shape[2]-len(pads[0]))\n",
    "        \n",
    "    return consits_list\n",
    "        "
   ]
  },
  {
   "cell_type": "markdown",
   "id": "d2e82160-2164-4206-9ea1-76cb130c0567",
   "metadata": {},
   "source": [
    "# Plot the jet constituents next to the augmented versions"
   ]
  },
  {
   "cell_type": "code",
   "execution_count": 9,
   "id": "f66a6402-43b2-42d7-b387-a812915ccaae",
   "metadata": {
    "scrolled": false
   },
   "outputs": [
    {
     "name": "stdout",
     "output_type": "stream",
     "text": [
      "[285.97747803 262.48712158 214.92817688 129.6416626  117.68864441\n",
      " 111.28666687  66.7428894   55.50513077  45.47164917  42.15271759\n",
      "  26.81960297  26.20140266  17.20608711  16.85195541  16.50372505\n",
      "  15.07640839  14.06130028  12.68602657  12.32116699  12.25113201\n",
      "  12.2295866   11.3848238   11.08015537  10.68054962  10.36848736\n",
      "  10.24290562   9.67082787   9.37338924   9.36174488   8.20859051\n",
      "   7.3012042    6.27259302   6.1786623    6.0911727    5.85399866\n",
      "   5.78002882   5.75421476   5.1620636    4.97154284   4.8177309\n",
      "   4.39212513   4.13790131   4.07342243   3.97718573   3.4687295\n",
      "   2.93692565   2.92610669   2.90579557   2.7165494    2.70009494\n",
      " 356.01177979 235.36668396  84.89144897  79.88288879  67.9963913\n",
      "  66.63404846  65.80249786  61.14349747  51.9460144   46.88373184\n",
      "  46.8289299   43.1870575   40.78447342  37.78722     35.19151688\n",
      "  31.52543831  31.22504997  29.39108086  26.86074829  21.81142616\n",
      "  20.84430885  17.25367165  17.0721035   15.57012177  13.78256893\n",
      "  13.5600605   13.06508827  12.73586178  10.85212517  10.67644978\n",
      "  10.03622246   9.77758503   9.67794514   7.49604702   5.99414921\n",
      "   4.79824162   2.96654415   2.4452951    2.44412708   2.14787698\n",
      "   1.82623744   1.27944446   1.0964005    0.41319269   0.\n",
      "   0.           0.           0.           0.           0.        ]\n",
      "[2.85977478e+02 2.62487122e+02 2.14928177e+02 1.29641663e+02\n",
      " 1.17688644e+02 1.11286667e+02 6.67428894e+01 5.55051308e+01\n",
      " 4.54716492e+01 4.21527176e+01 2.68196030e+01 2.62014027e+01\n",
      " 1.72060871e+01 1.68519554e+01 1.65037251e+01 1.50764084e+01\n",
      " 1.40613003e+01 1.26860266e+01 1.23211670e+01 1.22511320e+01\n",
      " 1.22295866e+01 1.13848238e+01 1.10801554e+01 1.06805496e+01\n",
      " 1.03684874e+01 1.02429056e+01 9.67082787e+00 9.37338924e+00\n",
      " 9.36174488e+00 8.20859051e+00 7.30120420e+00 6.27259302e+00\n",
      " 6.17866230e+00 6.09117270e+00 5.85399866e+00 5.78002882e+00\n",
      " 5.75421476e+00 5.16206360e+00 4.97154284e+00 4.81773090e+00\n",
      " 4.39212513e+00 4.13790131e+00 4.07342243e+00 3.97718573e+00\n",
      " 3.46872950e+00 2.93692565e+00 2.92610669e+00 2.90579557e+00\n",
      " 2.71654940e+00 2.70009494e+00 3.56011780e+02 2.35366684e+02\n",
      " 3.97844796e+01 7.98828888e+01 6.79963913e+01 6.66340485e+01\n",
      " 6.58024979e+01 6.11434975e+01 5.19460144e+01 4.68837318e+01\n",
      " 4.68289299e+01 4.31870575e+01 4.07844734e+01 3.77872200e+01\n",
      " 3.51915169e+01 3.15254383e+01 3.12250500e+01 2.17277556e+01\n",
      " 2.68607483e+01 1.31925434e+01 2.08443089e+01 1.72536716e+01\n",
      " 1.70721035e+01 1.52035928e+01 1.37825689e+01 1.35600605e+01\n",
      " 1.25553418e+00 1.27358618e+01 1.08521252e+01 1.06764498e+01\n",
      " 1.00362225e+01 9.77758503e+00 9.67794514e+00 7.49604702e+00\n",
      " 5.99414921e+00 4.79824162e+00 2.89760489e+00 2.44529510e+00\n",
      " 2.44412708e+00 2.14787698e+00 1.82623744e+00 1.27944446e+00\n",
      " 1.09640050e+00 4.13192689e-01 1.18095541e+01 3.66528996e-01\n",
      " 4.51069694e+01 6.89392579e-02 8.61888277e+00 7.66332522e+00]\n",
      "3365.843646943569\n",
      "[2.85977478e+02 2.62487122e+02 2.14928177e+02 1.29641663e+02\n",
      " 1.17688644e+02 1.11286667e+02 6.67428894e+01 5.55051308e+01\n",
      " 4.54716492e+01 4.21527176e+01 2.68196030e+01 2.62014027e+01\n",
      " 1.72060871e+01 1.68519554e+01 1.65037251e+01 1.50764084e+01\n",
      " 1.40613003e+01 1.26860266e+01 1.23211670e+01 1.22511320e+01\n",
      " 1.22295866e+01 1.13848238e+01 1.10801554e+01 1.06805496e+01\n",
      " 1.03684874e+01 1.02429056e+01 9.67082787e+00 9.37338924e+00\n",
      " 9.36174488e+00 8.20859051e+00 7.30120420e+00 6.27259302e+00\n",
      " 6.17866230e+00 6.09117270e+00 5.85399866e+00 5.78002882e+00\n",
      " 5.75421476e+00 5.16206360e+00 4.97154284e+00 4.81773090e+00\n",
      " 4.39212513e+00 4.13790131e+00 4.07342243e+00 3.97718573e+00\n",
      " 3.46872950e+00 2.93692565e+00 2.92610669e+00 2.90579557e+00\n",
      " 2.71654940e+00 2.70009494e+00 3.56011780e+02 2.35366684e+02\n",
      " 3.97844796e+01 7.98828888e+01 6.79963913e+01 6.66340485e+01\n",
      " 6.58024979e+01 6.11434975e+01 5.19460144e+01 4.68837318e+01\n",
      " 4.68289299e+01 4.31870575e+01 4.07844734e+01 3.77872200e+01\n",
      " 3.51915169e+01 3.15254383e+01 3.12250500e+01 2.17277556e+01\n",
      " 2.68607483e+01 1.31925434e+01 2.08443089e+01 1.72536716e+01\n",
      " 1.70721035e+01 1.52035928e+01 1.37825689e+01 1.35600605e+01\n",
      " 1.25553418e+00 1.27358618e+01 1.08521252e+01 1.06764498e+01\n",
      " 1.00362225e+01 9.77758503e+00 9.67794514e+00 7.49604702e+00\n",
      " 5.99414921e+00 4.79824162e+00 2.89760489e+00 2.44529510e+00\n",
      " 2.44412708e+00 2.14787698e+00 1.82623744e+00 1.27944446e+00\n",
      " 1.09640050e+00 4.13192689e-01 1.18095541e+01 3.66528996e-01\n",
      " 4.51069694e+01 6.89392579e-02 8.61888277e+00 7.66332522e+00]\n"
     ]
    }
   ],
   "source": [
    "#path_to_data_storage = \"/clusterfs/ml4hep/rrmastandrea/processed_data/\"+\"dijet\"+\"/\"\n",
    "\n",
    "#high_mass_consits_wjet_deltaJ1 = np.load(path_to_data_storage+\"50_jets_J1_pi_2.npy\")\n",
    "\n",
    "max_pt = np.max(clr_train[0][0])\n",
    "ptcm = 5*max_pt\n",
    "\n",
    "rot = False\n",
    "trs = False\n",
    "trsw = .5\n",
    "dis = False\n",
    "ptst = .1\n",
    "col = True\n",
    "ptcm = 1\n",
    "\n",
    "np.random.seed(0)\n",
    "\n",
    "\n",
    "\n",
    "orig_events, mod_events = apply_single_jet_augs(clr_train, 2, \"J1_phi_only_pi_2\", rot, trs, dis, col)\n",
    "\n",
    "print(orig_events[1][0][:])\n",
    "print(mod_events[1][0][:])\n",
    "\n",
    "print(sum(orig_events[1][0][:]))\n",
    "print(sum(mod_events[1][0][:]))\n",
    "#mod_events = shift_phi(mod_events)\n",
    "\n",
    "\n",
    "\n",
    "#mod_events = shift_eta(mod_events)\n",
    "\n",
    "\n",
    "\n",
    "\n",
    "#for index_to_plot in range(3):\n",
    "\n",
    "  \n",
    "#    plot_jets_phase_plane(orig_events[index_to_plot], mod_events[index_to_plot], .5, xlims=(-3,3), ylims=(-3,3))\n",
    "\n",
    "    \n"
   ]
  },
  {
   "cell_type": "markdown",
   "id": "f1b800f8",
   "metadata": {
    "scrolled": false
   },
   "source": [
    "# Plot nsubjettiness"
   ]
  },
  {
   "cell_type": "code",
   "execution_count": 10,
   "id": "2838b294-8030-4264-9fc5-e787408bc9f2",
   "metadata": {
    "scrolled": false
   },
   "outputs": [],
   "source": [
    "# calculate n sub jettiness\n",
    "\n",
    "# split the list of events into a larger list of jets\n",
    "\n",
    "#orig_events_long = np.concatenate(np.split(orig_events, 2, axis = 2), axis = 0)\n",
    "#mod_events_long = np.concatenate(np.split(mod_events, 2, axis = 2), axis = 0)\n",
    "\n",
    "orig_events_hardest = np.split(orig_events, 2, axis = 2)[0]\n",
    "orig_events_second = np.split(orig_events, 2, axis = 2)[1]\n",
    "mod_events_hardest = np.split(mod_events, 2, axis = 2)[0]\n",
    "mod_events_second = np.split(mod_events, 2, axis = 2)[1]"
   ]
  },
  {
   "cell_type": "code",
   "execution_count": 11,
   "id": "b91182c4",
   "metadata": {},
   "outputs": [],
   "source": [
    "#plot_nsubs(orig_events_hardest,mod_events_hardest,title=\" hardest mass\")\n",
    "#plot_nsubs(orig_events_second,mod_events_second,title=\" second mass\")"
   ]
  },
  {
   "cell_type": "markdown",
   "id": "0c5f5e95-c2d7-42dc-8e34-9b5cf14dd5cf",
   "metadata": {},
   "source": []
  },
  {
   "cell_type": "code",
   "execution_count": 12,
   "id": "8cc28ffb-1178-41ef-b7b0-cf22f760f241",
   "metadata": {},
   "outputs": [],
   "source": [
    "#plot_mj(orig_events_hardest,mod_events_hardest, title=\" hardest mass\")\n",
    "#plot_mj(orig_events_second,mod_events_second, title=\" second mass\")"
   ]
  },
  {
   "cell_type": "code",
   "execution_count": 13,
   "id": "2205eac3-c69d-4b54-9acf-abf238eb51b8",
   "metadata": {
    "scrolled": true
   },
   "outputs": [
    {
     "data": {
      "image/png": "[encoded data removed]",
      "text/plain": [
       "<Figure size 432x432 with 1 Axes>"
      ]
     },
     "metadata": {
      "needs_background": "light"
     },
     "output_type": "display_data"
    }
   ],
   "source": [
    "plot_mjj(orig_events_hardest, orig_events_second, mod_events_hardest, mod_events_second, bins = np.linspace(0,6000,40), title = \", global eta\")\n",
    "\n",
    "\n"
   ]
  },
  {
   "cell_type": "code",
   "execution_count": 8,
   "id": "45c1ad8f-d110-4896-b89e-e69e603adaf0",
   "metadata": {
    "scrolled": false
   },
   "outputs": [
    {
     "ename": "NameError",
     "evalue": "name 'cluster' is not defined",
     "output_type": "error",
     "traceback": [
      "\u001b[0;31m---------------------------------------------------------------------------\u001b[0m",
      "\u001b[0;31mNameError\u001b[0m                                 Traceback (most recent call last)",
      "\u001b[0;32m<ipython-input-8-b2612361075f>\u001b[0m in \u001b[0;36m<module>\u001b[0;34m\u001b[0m\n\u001b[1;32m     70\u001b[0m \u001b[0;34m\u001b[0m\u001b[0m\n\u001b[1;32m     71\u001b[0m \u001b[0;34m\u001b[0m\u001b[0m\n\u001b[0;32m---> 72\u001b[0;31m \u001b[0mmjj_test\u001b[0m\u001b[0;34m(\u001b[0m\u001b[0morig_events_hardest\u001b[0m\u001b[0;34m,\u001b[0m \u001b[0mmod_events_hardest\u001b[0m\u001b[0;34m,\u001b[0m \u001b[0morig_events_second\u001b[0m\u001b[0;34m,\u001b[0m \u001b[0mmod_events_second\u001b[0m\u001b[0;34m)\u001b[0m\u001b[0;34m\u001b[0m\u001b[0;34m\u001b[0m\u001b[0m\n\u001b[0m\u001b[1;32m     73\u001b[0m \u001b[0;34m\u001b[0m\u001b[0m\n\u001b[1;32m     74\u001b[0m \u001b[0;34m\u001b[0m\u001b[0m\n",
      "\u001b[0;32m<ipython-input-8-b2612361075f>\u001b[0m in \u001b[0;36mmjj_test\u001b[0;34m(hard_orig, hard_mod, second_orig, second_mod)\u001b[0m\n\u001b[1;32m     15\u001b[0m                                  for i in range(hard_orig[event_id].shape[1])],\n\u001b[1;32m     16\u001b[0m                      np.dtype([('pT', 'f8'), ('eta', 'f8'), ('phi', 'f8'), ('mass', 'f8')]))  \n\u001b[0;32m---> 17\u001b[0;31m         \u001b[0msequence_HO\u001b[0m \u001b[0;34m=\u001b[0m \u001b[0mcluster\u001b[0m\u001b[0;34m(\u001b[0m\u001b[0mcollision_HO\u001b[0m\u001b[0;34m,\u001b[0m \u001b[0mR\u001b[0m\u001b[0;34m=\u001b[0m\u001b[0;36m100\u001b[0m\u001b[0;34m,\u001b[0m \u001b[0mp\u001b[0m\u001b[0;34m=\u001b[0m\u001b[0;34m-\u001b[0m\u001b[0;36m1\u001b[0m\u001b[0;34m)\u001b[0m \u001b[0;31m# ridiculously large R as we want to include everything\u001b[0m\u001b[0;34m\u001b[0m\u001b[0;34m\u001b[0m\u001b[0m\n\u001b[0m\u001b[1;32m     18\u001b[0m         \u001b[0mjet_HO\u001b[0m \u001b[0;34m=\u001b[0m \u001b[0msequence_HO\u001b[0m\u001b[0;34m.\u001b[0m\u001b[0minclusive_jets\u001b[0m\u001b[0;34m(\u001b[0m\u001b[0;34m)\u001b[0m\u001b[0;34m[\u001b[0m\u001b[0;36m0\u001b[0m\u001b[0;34m]\u001b[0m\u001b[0;34m\u001b[0m\u001b[0;34m\u001b[0m\u001b[0m\n\u001b[1;32m     19\u001b[0m \u001b[0;34m\u001b[0m\u001b[0m\n",
      "\u001b[0;31mNameError\u001b[0m: name 'cluster' is not defined"
     ]
    }
   ],
   "source": [
    "def mjj_test(hard_orig, hard_mod, second_orig, second_mod):\n",
    "    \n",
    "    \"\"\"\n",
    "    INPUT: np.arrays (# jets, 3, # constituents) where the 1-index goes through (pT, eta, phi)\n",
    "    \n",
    "    OUTPUT: np.array containing mjj\n",
    "    \"\"\"\n",
    "    mjjs = []\n",
    "    \n",
    "    #for event_id in range(hard_orig.shape[0]):\n",
    "    for event_id in range(100):\n",
    "        \n",
    "        # cluster hardest orig\n",
    "        collision_HO =  np.array([(hard_orig[event_id][0,i],hard_orig[event_id][1,i],hard_orig[event_id][2,i],0) \n",
    "                                 for i in range(hard_orig[event_id].shape[1])],\n",
    "                     np.dtype([('pT', 'f8'), ('eta', 'f8'), ('phi', 'f8'), ('mass', 'f8')]))  \n",
    "        sequence_HO = cluster(collision_HO, R=100, p=-1) # ridiculously large R as we want to include everything\n",
    "        jet_HO = sequence_HO.inclusive_jets()[0]\n",
    "        \n",
    "        # cluster second orig\n",
    "        collision_SO =  np.array([(second_orig[event_id][0,i],second_orig[event_id][1,i],second_orig[event_id][2,i],0) \n",
    "                                 for i in range(second_orig[event_id].shape[1])],\n",
    "                     np.dtype([('pT', 'f8'), ('eta', 'f8'), ('phi', 'f8'), ('mass', 'f8')]))  \n",
    "        sequence_SO = cluster(collision_SO, R=100, p=-1) # ridiculously large R as we want to include everything\n",
    "        jet_SO = sequence_SO.inclusive_jets()[0]\n",
    "        \n",
    "        # cluster hardest mod\n",
    "        collision_HM =  np.array([(hard_mod[event_id][0,i],hard_mod[event_id][1,i],hard_mod[event_id][2,i],0) \n",
    "                                 for i in range(hard_mod[event_id].shape[1])],\n",
    "                     np.dtype([('pT', 'f8'), ('eta', 'f8'), ('phi', 'f8'), ('mass', 'f8')]))  \n",
    "        sequence_HM = cluster(collision_HM, R=100, p=-1) # ridiculously large R as we want to include everything\n",
    "        jet_HM = sequence_HM.inclusive_jets()[0]\n",
    "        \n",
    "        # cluster second md\n",
    "        collision_SM =  np.array([(second_mod[event_id][0,i],second_mod[event_id][1,i],second_mod[event_id][2,i],0) \n",
    "                                 for i in range(second_mod[event_id].shape[1])],\n",
    "                     np.dtype([('pT', 'f8'), ('eta', 'f8'), ('phi', 'f8'), ('mass', 'f8')]))  \n",
    "        sequence_SM = cluster(collision_SM, R=100, p=-1) # ridiculously large R as we want to include everything\n",
    "        jet_SM = sequence_SM.inclusive_jets()[0]\n",
    "        \n",
    "\n",
    "        \n",
    "        if jet_HO.pt != jet_HM.pt:\n",
    "            print(\"Hardest jet doesn't match\", event_id)\n",
    "            \n",
    "            print(jet_HO)\n",
    "            print(\"Pt sum:\",sum(hard_orig[event_id][0]))\n",
    "            print(jet_HM)\n",
    "            print(\"Pt sum:\",sum(hard_mod[event_id][0]))\n",
    "            print()\n",
    "            \n",
    "        #if jet_SO.pt != jet_SM.pt:\n",
    "            #print(\"Second jet doesn't match\", event_id)\n",
    "        \n",
    "     \n",
    "        \n",
    "    \n",
    "        \n",
    "    \n",
    "    \n",
    "        # calculate mjj   \n",
    "        # mjj = sqrt((E1 + E2)^2 - (px1 + px2)^2 - (py1 + py2)^2 - (pz1 + pz2)^2)\n",
    "        #loc_mjj = np.sqrt((jet_1.e + jet_2.e)**2 - (jet_1.px+jet_2.px)**2 - (jet_1.py+jet_2.py)**2 - (jet_1.pz+jet_2.pz)**2)\n",
    "\n",
    "        #mjjs.append(loc_mjj)\n",
    "        \n",
    "        # cluster jet 2\n",
    "\n",
    "    #return np.array(mjjs)\n",
    "\n",
    "\n",
    "mjj_test(orig_events_hardest, mod_events_hardest, orig_events_second, mod_events_second)\n",
    "\n",
    "\n"
   ]
  },
  {
   "cell_type": "code",
   "execution_count": null,
   "id": "fca05eca-25ef-4c41-94bb-404aaae36882",
   "metadata": {},
   "outputs": [],
   "source": []
  },
  {
   "cell_type": "code",
   "execution_count": null,
   "id": "cffee9e5-937c-475d-ab53-ba53f2f6dd20",
   "metadata": {},
   "outputs": [],
   "source": [
    "\n",
    "    \n"
   ]
  },
  {
   "cell_type": "code",
   "execution_count": null,
   "id": "0b948293-9a47-477f-a50a-9cb1375a1a6a",
   "metadata": {},
   "outputs": [],
   "source": []
  },
  {
   "cell_type": "code",
   "execution_count": null,
   "id": "e7d393ec-4032-4883-9c2b-f59549a851d8",
   "metadata": {},
   "outputs": [],
   "source": []
  },
  {
   "cell_type": "code",
   "execution_count": null,
   "id": "7f88324d-16ea-4802-8f72-acd1637ee254",
   "metadata": {},
   "outputs": [],
   "source": []
  },
  {
   "cell_type": "code",
   "execution_count": null,
   "id": "c9b5b18c-c754-4d6f-96e2-e6ceb3ea72c4",
   "metadata": {},
   "outputs": [],
   "source": []
  },
  {
   "cell_type": "code",
   "execution_count": null,
   "id": "224e9bab",
   "metadata": {},
   "outputs": [],
   "source": []
  },
  {
   "cell_type": "code",
   "execution_count": null,
   "id": "9c955666",
   "metadata": {},
   "outputs": [],
   "source": []
  },
  {
   "cell_type": "code",
   "execution_count": null,
   "id": "cb36fe8c",
   "metadata": {},
   "outputs": [],
   "source": []
  }
 ],
 "metadata": {
  "kernelspec": {
   "display_name": "Python 3",
   "language": "python",
   "name": "python3"
  },
  "language_info": {
   "codemirror_mode": {
    "name": "ipython",
    "version": 3
   },
   "file_extension": ".py",
   "mimetype": "text/x-python",
   "name": "python",
   "nbconvert_exporter": "python",
   "pygments_lexer": "ipython3",
   "version": "3.6.8"
  }
 },
 "nbformat": 4,
 "nbformat_minor": 5
}
