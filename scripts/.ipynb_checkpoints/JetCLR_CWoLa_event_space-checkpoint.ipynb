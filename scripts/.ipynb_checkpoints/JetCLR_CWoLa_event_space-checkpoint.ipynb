{
 "cells": [
  {
   "cell_type": "markdown",
   "id": "0b96bbd2",
   "metadata": {},
   "source": [
    "# Event space CWoLa\n",
    "\n",
    "This notebook runs a weakly supervised CWoLa training procedure on the event space representations\n"
   ]
  },
  {
   "cell_type": "code",
   "execution_count": 1,
   "id": "50fed01a",
   "metadata": {},
   "outputs": [
    {
     "name": "stdout",
     "output_type": "stream",
     "text": [
      "device: cpu\n"
     ]
    }
   ],
   "source": [
    "# imports\n",
    "import sys\n",
    "import os\n",
    "import numpy as np\n",
    "import matplotlib.pyplot as plt\n",
    "import random\n",
    "import time\n",
    "from matplotlib.backends.backend_pdf import PdfPages\n",
    "\n",
    "# load torch modules\n",
    "import torch\n",
    "import torch.nn as nn\n",
    "import torch.nn.functional as F\n",
    "\n",
    "# load custom modules\n",
    "from modules.jet_augs import remove_jet_and_rescale_pT\n",
    "from modules.neural_net import create_and_run_nn\n",
    "from modules.CWoLa_helpers import generate_mixed_sample, generate_train_test_val\n",
    "\n",
    "\n",
    "seed = 1\n",
    "torch.manual_seed(seed)\n",
    "random.seed(seed)\n",
    "np.random.seed(seed)\n",
    "torch.cuda.empty_cache()\n",
    "\n",
    "from numba import cuda \n",
    "os.environ[\"CUDA_VISIBLE_DEVICES\"]=\"3\"\n",
    "device = cuda.get_current_device()\n",
    "device.reset()\n",
    "\n",
    "torch.set_num_threads(2)\n",
    "\n",
    "# set gpu device\n",
    "device = torch.device( \"cuda\" if torch.cuda.is_available() else \"cpu\")\n",
    "device = torch.device( \"cpu\")\n",
    "print( \"device: \" + str( device ), flush=True)\n"
   ]
  },
  {
   "cell_type": "markdown",
   "id": "c979e2a4",
   "metadata": {},
   "source": [
    "## Load in the data + crop"
   ]
  },
  {
   "cell_type": "code",
   "execution_count": 2,
   "id": "65a07adf",
   "metadata": {},
   "outputs": [
    {
     "name": "stdout",
     "output_type": "stream",
     "text": [
      "/global/home/users/rrmastandrea/training_data_vf/nCWoLa_sig_85000_nCWoLa_bkg_0_n_nonzero_50_n_pad_0_n_jet_2/\n",
      "/global/home/users/rrmastandrea/training_data_vf/nCWoLa_sig_0_nCWoLa_bkg_85000_n_nonzero_50_n_pad_0_n_jet_2/\n",
      "/global/home/users/rrmastandrea/training_data_vf/STANDARD_TEST_SET_n_sig_10k_n_bkg_10k_n_nonzero_50_n_pad_0_n_jet_2/\n",
      "Sig data shape: (85000, 3, 100)\n",
      "Sig labels shape: (85000,)\n",
      "Bkg data shape: (85000, 3, 100)\n",
      "Sig data shape: (85000,)\n",
      "STS data shape: (20000, 3, 100)\n",
      "STS labels shape: (20000,)\n"
     ]
    }
   ],
   "source": [
    "path_to_save_dir = \"/global/home/users/rrmastandrea/training_data_vf/\"\n",
    "\n",
    "sig_samp_id = \"nCWoLa_sig_85000_nCWoLa_bkg_0_n_nonzero_50_n_pad_0_n_jet_2/\"\n",
    "bkg_samp_id = \"nCWoLa_sig_0_nCWoLa_bkg_85000_n_nonzero_50_n_pad_0_n_jet_2/\"\n",
    "\n",
    "TEST_dir = \"STANDARD_TEST_SET_n_sig_10k_n_bkg_10k_n_nonzero_50_n_pad_0_n_jet_2/\"\n",
    "\n",
    "n_constits_max = 50\n",
    "n_jets = 2\n",
    "\n",
    "path_to_sig_data = path_to_save_dir+sig_samp_id\n",
    "print(path_to_sig_data)\n",
    "path_to_bkg_data = path_to_save_dir+bkg_samp_id\n",
    "print(path_to_bkg_data)\n",
    "\n",
    "path_to_STS = path_to_save_dir+TEST_dir\n",
    "print(path_to_STS)\n",
    "\n",
    "\n",
    "sig_data = np.load(path_to_sig_data+\"data_train.npy\")\n",
    "sig_labels = np.load(path_to_sig_data+\"labels_train.npy\")\n",
    "bkg_data = np.load(path_to_bkg_data+\"data_train.npy\")\n",
    "bkg_labels = np.load(path_to_bkg_data+\"labels_train.npy\")\n",
    "STS_data = np.load(path_to_STS+\"data.npy\")\n",
    "STS_labels = np.load(path_to_STS+\"labels.npy\")\n",
    "\n",
    "\n",
    "# Crop the data, rescale pt\n",
    "cropped_sig_data = remove_jet_and_rescale_pT(sig_data, n_jets)\n",
    "cropped_bkg_data = remove_jet_and_rescale_pT(bkg_data, n_jets)\n",
    "cropped_STS_data = remove_jet_and_rescale_pT(STS_data, n_jets)\n",
    "\n",
    "# print data dimensions\n",
    "print( \"Sig data shape: \" + str( cropped_sig_data.shape ), flush=True)\n",
    "print( \"Sig labels shape: \" + str( sig_labels.shape ), flush=True)\n",
    "print( \"Bkg data shape: \" + str( cropped_bkg_data.shape ), flush=True)\n",
    "print( \"Sig data shape: \" + str( bkg_labels.shape ), flush=True)\n",
    "\n",
    "\n",
    "print( \"STS data shape: \" + str( cropped_STS_data.shape ), flush=True)\n",
    "print( \"STS labels shape: \" + str( STS_labels.shape ), flush=True)\n",
    "\n",
    "num_consts_tot = 100\n",
    "\n",
    "cropped_STS_data = np.reshape(cropped_STS_data,(cropped_STS_data.shape[0],3*num_consts_tot))\n"
   ]
  },
  {
   "cell_type": "code",
   "execution_count": 3,
   "id": "dfbce384",
   "metadata": {
    "scrolled": false
   },
   "outputs": [],
   "source": [
    "# For the actual anomaly detection, we need to split the datasets in half\n",
    "# i.e. the first \"mixed\" sample is the first half of the background events\n",
    "# the second mixed sample is a blend of the second half of the background events\n",
    "\n",
    "cropped_sig_data = remove_jet_and_rescale_pT(sig_data, n_jets)\n",
    "cropped_bkg_data = remove_jet_and_rescale_pT(bkg_data, n_jets)\n",
    "\n",
    "first_half_sig_data = cropped_sig_data[:42500]\n",
    "second_half_sig_data = cropped_sig_data[42500:]\n",
    "\n",
    "first_half_bkg_data = cropped_bkg_data[:42500]\n",
    "second_half_bkg_data = cropped_bkg_data[42500:]"
   ]
  },
  {
   "cell_type": "markdown",
   "id": "189cd7ec",
   "metadata": {},
   "source": [
    "## Test the classifier in the fully supervised cse"
   ]
  },
  {
   "cell_type": "code",
   "execution_count": 7,
   "id": "1f9656b9",
   "metadata": {
    "scrolled": false
   },
   "outputs": [
    {
     "data": {
      "image/png": "[encoded data removed]",
      "text/plain": [
       "<Figure size 432x288 with 1 Axes>"
      ]
     },
     "metadata": {
      "needs_background": "light"
     },
     "output_type": "display_data"
    }
   ],
   "source": [
    "# Make the datasets\n",
    "\n",
    "\n",
    "layer = 1 # here, 0 = p_t, 1 = eta, 2 = phi\n",
    "  \n",
    "M1 = first_half_sig_data\n",
    "M2 = first_half_bkg_data\n",
    "bins = np.linspace(-2,2,60)\n",
    "    \n",
    "S = np.reshape(M1[:,layer,:], (M1.shape[0]*M1.shape[2],1))\n",
    "B = np.reshape(M2[:,layer,:], (M2.shape[0]*M2.shape[2],1))\n",
    "\n",
    "\n",
    "plt.figure()\n",
    "plt.hist(S, bins, label = \"S\", alpha = 0.5)\n",
    "plt.hist(B, bins, label = \"B\", alpha = 0.5)\n",
    "plt.legend()\n",
    "plt.show()"
   ]
  },
  {
   "cell_type": "code",
   "execution_count": 8,
   "id": "f4cc3ad6",
   "metadata": {
    "scrolled": false
   },
   "outputs": [
    {
     "name": "stdout",
     "output_type": "stream",
     "text": [
      "Train data shape: (59500, 300)\n",
      "Train labels shape: (59500,)\n",
      "Val data shape: (25500, 300)\n",
      "Val labels shape: (25500,)\n",
      "Starting training...\n"
     ]
    },
    {
     "name": "stderr",
     "output_type": "stream",
     "text": [
      " 27%|██▋       | 270/1000 [01:43<04:39,  2.61it/s]\n"
     ]
    },
    {
     "name": "stdout",
     "output_type": "stream",
     "text": [
      "INFO: Early stopping\n",
      "Finished Training\n"
     ]
    },
    {
     "data": {
      "image/png": "[encoded data removed]",
      "text/plain": [
       "<Figure size 432x288 with 1 Axes>"
      ]
     },
     "metadata": {
      "needs_background": "light"
     },
     "output_type": "display_data"
    },
    {
     "name": "stderr",
     "output_type": "stream",
     "text": [
      "/global/home/users/rrmastandrea/computingML2/lib64/python3.6/site-packages/ipykernel_launcher.py:45: RuntimeWarning: divide by zero encountered in true_divide\n"
     ]
    },
    {
     "data": {
      "image/png": "[encoded data removed]",
      "text/plain": [
       "<Figure size 432x288 with 1 Axes>"
      ]
     },
     "metadata": {
      "needs_background": "light"
     },
     "output_type": "display_data"
    },
    {
     "name": "stdout",
     "output_type": "stream",
     "text": [
      "Accuracy of the network: 83 %\n",
      "ROC AUC: 0.9279685350000002\n"
     ]
    },
    {
     "name": "stderr",
     "output_type": "stream",
     "text": [
      "/global/home/users/rrmastandrea/computingML2/lib64/python3.6/site-packages/ipykernel_launcher.py:56: RuntimeWarning: divide by zero encountered in true_divide\n",
      "/global/home/users/rrmastandrea/computingML2/lib64/python3.6/site-packages/ipykernel_launcher.py:56: RuntimeWarning: invalid value encountered in true_divide\n"
     ]
    }
   ],
   "source": [
    "data_train, labels_train, data_val, labels_val = generate_train_test_val(M1, M2)\n",
    "\n",
    "# Define the NN parameters\n",
    "\n",
    "full_sup_AUC = 0\n",
    "full_sup_maxsic = 0\n",
    "fixed_TPR = 0.5\n",
    "full_sup_FPRatTPR = 0\n",
    "\n",
    "data_train = np.reshape(data_train,(data_train.shape[0],3*num_consts_tot))\n",
    "data_val = np.reshape(data_val,(data_val.shape[0],3*num_consts_tot))\n",
    "\n",
    "# print data dimensions\n",
    "print( \"Train data shape: \" + str( data_train.shape ), flush=True)\n",
    "print( \"Train labels shape: \" + str( labels_train.shape ), flush=True)\n",
    "print( \"Val data shape: \" + str( data_val.shape ), flush=True)\n",
    "print( \"Val labels shape: \" + str( labels_val.shape ), flush=True)\n",
    "\n",
    "input_shape = 3*num_consts_tot   \n",
    "num_epochs = 1000\n",
    "batch_size = 500\n",
    "update_epochs = 10\n",
    "lr = 0.0001\n",
    "\n",
    "\n",
    "# Run the NN\n",
    "\n",
    "performance_stats = create_and_run_nn(device, input_shape, num_epochs, batch_size, update_epochs, lr, \n",
    "                              data_train, labels_train, \n",
    "                              data_val, labels_val,\n",
    "                              cropped_STS_data, STS_labels, \n",
    "                              verbose = True, early_stop = True, LRschedule = False)\n",
    "\n",
    "# Plot the output losses   \n",
    "plt.figure()\n",
    "plt.plot(performance_stats[\"epochs\"],performance_stats[\"losses\"], label = \"loss\")\n",
    "plt.plot(performance_stats[\"val_epochs\"],performance_stats[\"val_losses\"], label = \"val loss\")\n",
    "plt.xlabel(\"Epochs\")\n",
    "plt.ylabel(\"Losses\")\n",
    "plt.yscale(\"log\")\n",
    "plt.legend()\n",
    "plt.show()\n",
    "\n",
    "plt.figure()\n",
    "plt.plot(performance_stats[\"tpr\"], 1.0/performance_stats[\"fpr\"])\n",
    "plt.yscale(\"log\")\n",
    "plt.xlabel(\"True Positive Rate\")\n",
    "plt.ylabel(\"1/(False Positive Rate)\")\n",
    "plt.show()\n",
    "\n",
    "print(\"Accuracy of the network: %d %%\" % (100.00 *performance_stats[\"acc\"]))\n",
    "print(\"ROC AUC:\", performance_stats[\"auc\"])\n",
    "\n",
    "full_sup_AUC = performance_stats[\"auc\"]\n",
    "\n",
    "SIC = performance_stats[\"tpr\"]/np.sqrt(performance_stats[\"fpr\"])\n",
    "finite_SIC = SIC[np.isfinite(SIC)]\n",
    "full_sup_maxsic = np.max(finite_SIC)\n",
    "\n",
    "dist_from_fixed_tpr = np.abs(performance_stats[\"tpr\"] - fixed_TPR)\n",
    "min_dist_ind = np.where(dist_from_fixed_tpr == np.min(dist_from_fixed_tpr))[0][0]\n",
    "full_sup_FPRatTPR = np.sqrt(performance_stats[\"fpr\"][min_dist_ind])\n",
    "\n",
    "    \n"
   ]
  },
  {
   "cell_type": "markdown",
   "id": "34836721",
   "metadata": {},
   "source": [
    "## Test the classifier in the weakly supervised case# Testing the classifier (CWoLa)"
   ]
  },
  {
   "cell_type": "code",
   "execution_count": 9,
   "id": "2dce7753",
   "metadata": {
    "scrolled": false
   },
   "outputs": [
    {
     "name": "stdout",
     "output_type": "stream",
     "text": [
      "Starting CWoLa training run with f1 = 0.0001\n",
      "Train data shape: (59500, 300)\n",
      "Train labels shape: (59500,)\n",
      "Val data shape: (25500, 300)\n",
      "Val labels shape: (25500,)\n"
     ]
    },
    {
     "data": {
      "image/png": "[encoded data removed]",
      "text/plain": [
       "<Figure size 432x288 with 1 Axes>"
      ]
     },
     "metadata": {
      "needs_background": "light"
     },
     "output_type": "display_data"
    },
    {
     "name": "stdout",
     "output_type": "stream",
     "text": [
      "Starting training...\n"
     ]
    },
    {
     "name": "stderr",
     "output_type": "stream",
     "text": [
      "  6%|▌         | 60/1000 [00:22<05:53,  2.66it/s]\n"
     ]
    },
    {
     "name": "stdout",
     "output_type": "stream",
     "text": [
      "INFO: Early stopping\n",
      "Finished Training\n"
     ]
    },
    {
     "data": {
      "image/png": "[encoded data removed]",
      "text/plain": [
       "<Figure size 432x288 with 1 Axes>"
      ]
     },
     "metadata": {
      "needs_background": "light"
     },
     "output_type": "display_data"
    },
    {
     "name": "stderr",
     "output_type": "stream",
     "text": [
      "/global/home/users/rrmastandrea/computingML2/lib64/python3.6/site-packages/ipykernel_launcher.py:82: RuntimeWarning: divide by zero encountered in true_divide\n"
     ]
    },
    {
     "data": {
      "image/png": "[encoded data removed]",
      "text/plain": [
       "<Figure size 432x288 with 1 Axes>"
      ]
     },
     "metadata": {
      "needs_background": "light"
     },
     "output_type": "display_data"
    },
    {
     "name": "stdout",
     "output_type": "stream",
     "text": [
      "Accuracy of the network: 53 %\n",
      "ROC AUC: 0.5500055500000001\n",
      "[0.4263]\n",
      "\n"
     ]
    },
    {
     "name": "stderr",
     "output_type": "stream",
     "text": [
      "/global/home/users/rrmastandrea/computingML2/lib64/python3.6/site-packages/ipykernel_launcher.py:93: RuntimeWarning: invalid value encountered in true_divide\n"
     ]
    }
   ],
   "source": [
    "# Define the NN parameters\n",
    "\n",
    "input_shape = 3*num_consts_tot\n",
    "num_epochs = 1000\n",
    "batch_size = 500\n",
    "update_epochs = 10\n",
    "lr = 0.0001\n",
    "\n",
    "visualize = True\n",
    "\n",
    "f1_vals = []\n",
    "ROC_AUC_vals = []\n",
    "maxsic_vals = []\n",
    "FPRatTPR_vals = []\n",
    "\n",
    "f1_to_probe = [0.0001]\n",
    "\n",
    "for f1 in f1_to_probe:\n",
    "    \n",
    "    print(\"Starting CWoLa training run with f1 =\", f1)\n",
    "    f1_vals.append(f1)\n",
    "    \n",
    "    \n",
    "    \n",
    "    \n",
    "    if f1 == 0: # weird bug unless this is manually dne\n",
    "        data_train, labels_train, data_val, labels_val = generate_train_test_val(second_half_bkg_data, first_half_bkg_data)\n",
    "    elif f1 == 1:\n",
    "        data_train, labels_train, data_val, labels_val = generate_train_test_val(second_half_sig_data, first_half_bkg_data)\n",
    "    else:\n",
    "        # make the datasets / mixed samples\n",
    "        # We only want to keep M1 here, as that's the set with a fraction f of the anomaly \n",
    "        M1, M2 = generate_mixed_sample(second_half_sig_data, second_half_bkg_data, f1)\n",
    "    \n",
    "        # The other \"mixed\" sample is background only\n",
    "        data_train, labels_train, data_val, labels_val = generate_train_test_val(M1, first_half_bkg_data)\n",
    "        \n",
    "    data_train = np.reshape(data_train,(data_train.shape[0],3*num_consts_tot))\n",
    "    data_val = np.reshape(data_val,(data_val.shape[0],3*num_consts_tot))\n",
    "\n",
    "    # print data dimensions\n",
    "    print( \"Train data shape: \" + str( data_train.shape ), flush=True)\n",
    "    print( \"Train labels shape: \" + str( labels_train.shape ), flush=True)\n",
    "    print( \"Val data shape: \" + str( data_val.shape ), flush=True)\n",
    "    print( \"Val labels shape: \" + str( labels_val.shape ), flush=True)\n",
    "\n",
    "    # Run the NN\n",
    "\n",
    "    # visualise the mixed samples\n",
    "\n",
    "    if visualize:\n",
    "\n",
    "        S = np.reshape(M1[:,0,:], (M1.shape[0]*M1.shape[2],1))\n",
    "        B = np.reshape(M2[:,0,:], (M2.shape[0]*M2.shape[2],1))\n",
    "\n",
    "        bins = np.linspace(0,1,60)\n",
    "        plt.figure()\n",
    "        plt.hist(S, bins, label = \"S\", alpha = 0.5)\n",
    "        plt.hist(B, bins, label = \"B\", alpha = 0.5)\n",
    "        plt.legend()\n",
    "        plt.title(\"Rescaled pT\")\n",
    "        plt.show()\n",
    "\n",
    "    performance_stats = create_and_run_nn(device, input_shape, num_epochs, batch_size, update_epochs, lr, \n",
    "                          data_train, labels_train, \n",
    "                          data_val, labels_val,\n",
    "                          cropped_STS_data, STS_labels, \n",
    "                          verbose = True, early_stop = True, LRschedule = False)\n",
    "\n",
    "    if visualize:\n",
    "        # Plot the output losses   \n",
    "        plt.figure()\n",
    "        plt.plot(performance_stats[\"epochs\"],performance_stats[\"losses\"], label = \"loss\")\n",
    "        plt.plot(performance_stats[\"val_epochs\"],performance_stats[\"val_losses\"], label = \"val loss\")\n",
    "        plt.xlabel(\"Epochs\")\n",
    "        plt.ylabel(\"Losses\")\n",
    "        plt.yscale(\"log\")\n",
    "        plt.legend()\n",
    "        plt.show()\n",
    "\n",
    "        plt.figure()\n",
    "        plt.plot(performance_stats[\"tpr\"], 1.0/performance_stats[\"fpr\"])\n",
    "        plt.yscale(\"log\")\n",
    "        plt.xlabel(\"True Positive Rate\")\n",
    "        plt.ylabel(\"1/(False Positive Rate)\")\n",
    "        plt.show()\n",
    "\n",
    "    print(\"Accuracy of the network: %d %%\" % (100.00 *performance_stats[\"acc\"]))\n",
    "    print(\"ROC AUC:\", performance_stats[\"auc\"])\n",
    "\n",
    "    ROC_AUC_vals.append(performance_stats[\"auc\"])\n",
    "    \n",
    "    SIC = performance_stats[\"tpr\"]/np.sqrt(performance_stats[\"fpr\"])\n",
    "    finite_SIC = SIC[np.isfinite(SIC)]\n",
    "    maxsic_vals.append(np.max(finite_SIC))\n",
    "    \n",
    "    \n",
    "\n",
    "    dist_from_fixed_tpr = np.abs(performance_stats[\"tpr\"] - fixed_TPR)\n",
    "    min_dist_ind = np.where(dist_from_fixed_tpr == np.min(dist_from_fixed_tpr))[0][0]\n",
    "    FPRatTPR_vals.append(performance_stats[\"fpr\"][min_dist_ind])\n",
    "  \n",
    "    print()\n",
    "\n",
    "\n"
   ]
  },
  {
   "cell_type": "code",
   "execution_count": null,
   "id": "3bc7d8b0",
   "metadata": {},
   "outputs": [],
   "source": [
    "cwola_npy_save_dict = \"CWoLa_results_npy/cjjonst_rep/\"\n",
    "\n",
    "# save the f1 vals scanned over\n",
    "np.save(cwola_npy_save_dict+\"f1_vals_seed\"+str(seed), f1_vals)\n",
    "\n",
    "    \n",
    "# save the full sup \n",
    "np.save(cwola_npy_save_dict+\"full_sup_AUC\"+\"_seed\"+str(seed), np.full(len(f1_vals), full_sup_AUC))\n",
    "np.save(cwola_npy_save_dict+\"full_sup_maxsic\"+\"_seed\"+str(seed), np.full(len(f1_vals), full_sup_maxsic))\n",
    "np.save(cwola_npy_save_dict+\"full_sup_FPRatTPR\"+\"_seed\"+str(seed), np.full(len(f1_vals), full_sup_FPRatTPR))\n",
    "\n",
    "# save the Cwola\n",
    "np.save(cwola_npy_save_dict+\"CWoLa_AUC_layer\"+\"_seed\"+str(seed), [max(x, 1.0-x) for x in ROC_AUC_vals])\n",
    "np.save(cwola_npy_save_dict+\"CWoLa_sup_maxsic\"+\"_seed\"+str(seed), maxsic_vals)\n",
    "np.save(cwola_npy_save_dict+\"CWoLa_sup_FPRatTPR\"+\"_seed\"+str(seed), FPRatTPR_vals)\n",
    "\n"
   ]
  },
  {
   "cell_type": "code",
   "execution_count": null,
   "id": "c7b36280",
   "metadata": {},
   "outputs": [],
   "source": [
    "cwola_npy_save_dict = \"CWoLa_results_npy/const_rep/\"\n",
    "\n",
    "seeds = [1, 2, 3, 4, 5]\n",
    "\n",
    "\n",
    "full_sup_results_dict = {seed:{\"AUC\":0\n",
    "                               ,\n",
    "                        \"maxsic\":0,\n",
    "                        \"FPRatTPR\":0,} for seed in seeds}\n",
    "\n",
    "cwola_results_dict = {seed:{\"AUC\":0,\n",
    "                        \"maxsic\":0,\n",
    "                        \"FPRatTPR\":0,} for seed in seeds}\n",
    "\n",
    "for seed in seeds:\n",
    "\n",
    "    full_sup_results_dict[seed][\"AUC\"] = np.load(cwola_npy_save_dict+\"full_sup_AUC\"+\"_seed\"+str(seed)+\".npy\")\n",
    "    full_sup_results_dict[seed][\"maxsic\"] = np.load(cwola_npy_save_dict+\"full_sup_maxsic\"+\"_seed\"+str(seed)+\".npy\")\n",
    "    full_sup_results_dict[seed][\"FPRatTPR\"] = np.load(cwola_npy_save_dict+\"full_sup_FPRatTPR\"+\"_seed\"+str(seed)+\".npy\")\n",
    "\n",
    "    cwola_results_dict[seed][\"AUC\"] = np.load(cwola_npy_save_dict+\"CWoLa_AUC_layer\"+\"_seed\"+str(seed)+\".npy\")\n",
    "    cwola_results_dict[seed][\"maxsic\"] = np.load(cwola_npy_save_dict+\"CWoLa_sup_maxsic\"+\"_seed\"+str(seed)+\".npy\")\n",
    "    cwola_results_dict[seed][\"FPRatTPR\"] = np.load(cwola_npy_save_dict+\"CWoLa_sup_FPRatTPR\"+\"_seed\"+str(seed)+\".npy\")\n",
    "    \n",
    "f1_vals = np.load(cwola_npy_save_dict+\"f1_vals_seed\"+str(1)+\".npy\")\n",
    "\n",
    "\n",
    "\n",
    "# for eahc f1 val, calculate the mean and std from the seeds\n",
    "avg_full_sup_results_dict = {\"AUC\":[[],[]],  # vals, errors\n",
    "                        \"maxsic\":[[],[]],\n",
    "                        \"FPRatTPR\":[[],[]],}\n",
    "avg_cwola_results_dict = {\"AUC\":[[],[]],\n",
    "                        \"maxsic\":[[],[]],\n",
    "                        \"FPRatTPR\":[[],[]],}\n",
    "\n",
    "\n",
    "for i in range(len(f1_vals)):\n",
    "    avg_full_sup_results_dict[\"AUC\"][0].append(np.mean([full_sup_results_dict[seed][\"AUC\"][i] for seed in seeds]))\n",
    "    avg_full_sup_results_dict[\"AUC\"][1].append(np.std([full_sup_results_dict[seed][\"AUC\"][i] for seed in seeds]))\n",
    "    avg_full_sup_results_dict[\"maxsic\"][0].append(np.mean([full_sup_results_dict[seed][\"maxsic\"][i] for seed in seeds]))\n",
    "    avg_full_sup_results_dict[\"maxsic\"][1].append(np.std([full_sup_results_dict[seed][\"maxsic\"][i] for seed in seeds]))\n",
    "    avg_full_sup_results_dict[\"FPRatTPR\"][0].append(np.mean([full_sup_results_dict[seed][\"FPRatTPR\"][i] for seed in seeds]))\n",
    "    avg_full_sup_results_dict[\"FPRatTPR\"][1].append(np.std([full_sup_results_dict[seed][\"FPRatTPR\"][i] for seed in seeds]))\n",
    "    \n",
    "    avg_cwola_results_dict[\"AUC\"][0].append(np.mean([cwola_results_dict[seed][\"AUC\"][i] for seed in seeds]))\n",
    "    avg_cwola_results_dict[\"AUC\"][1].append(np.std([cwola_results_dict[seed][\"AUC\"][i] for seed in seeds]))\n",
    "    avg_cwola_results_dict[\"maxsic\"][0].append(np.mean([cwola_results_dict[seed][\"maxsic\"][i] for seed in seeds]))\n",
    "    avg_cwola_results_dict[\"maxsic\"][1].append(np.std([cwola_results_dict[seed][\"maxsic\"][i] for seed in seeds]))\n",
    "    avg_cwola_results_dict[\"FPRatTPR\"][0].append(np.mean([cwola_results_dict[seed][\"FPRatTPR\"][i] for seed in seeds]))\n",
    "    avg_cwola_results_dict[\"FPRatTPR\"][1].append(np.std([cwola_results_dict[seed][\"FPRatTPR\"][i] for seed in seeds]))\n",
    "    \n",
    "\n",
    "\n"
   ]
  },
  {
   "cell_type": "code",
   "execution_count": null,
   "id": "8e1aa409",
   "metadata": {
    "scrolled": false
   },
   "outputs": [],
   "source": [
    "plt.style.use(\"science.mplstyle\")\n",
    "\n",
    "pdf_name = \"JetCLR_CWoLa_ConstRep.pdf\"\n",
    "pp = PdfPages(pdf_name)\n",
    "\n",
    "capsize = 3\n",
    "xerr = .5*(f1_vals[1] - f1_vals[0])\n",
    "linthresh = 0.00015\n",
    "\n",
    "\n",
    "\n",
    "fig = plt.figure(figsize = (5,4))\n",
    "plt.errorbar(f1_vals, avg_full_sup_results_dict[\"AUC\"][0], yerr = avg_full_sup_results_dict[\"AUC\"][1], label = \"Fully Supervised\", color = \"k\", capsize = capsize, fmt = \"o\", xerr = xerr)\n",
    "plt.errorbar(f1_vals, avg_cwola_results_dict[\"AUC\"][0], yerr = avg_cwola_results_dict[\"AUC\"][1], label = \"CWoLa\", color = \"r\", capsize = capsize, fmt = \"^\", xerr = xerr)\n",
    "plt.legend()\n",
    "plt.xlabel(\"$f_1$\")\n",
    "plt.xscale(\"symlog\", linthresh=linthresh)\n",
    "\n",
    "plt.ylabel(\"AUC\")\n",
    "plt.ylim(0.45, 1)\n",
    "plt.title(\"Event space\")\n",
    "plt.show()\n",
    "pp.savefig(fig)\n",
    "\n",
    "\n",
    "fig = plt.figure(figsize = (5,4))\n",
    "plt.errorbar(f1_vals, avg_full_sup_results_dict[\"maxsic\"][0], yerr = avg_full_sup_results_dict[\"maxsic\"][1], label = \"Fully Supervised\", color = \"k\", capsize = capsize, fmt = \"o\", xerr = xerr)\n",
    "plt.errorbar(f1_vals, avg_cwola_results_dict[\"maxsic\"][0], yerr = avg_cwola_results_dict[\"maxsic\"][1], label = \"CWoLa\", color = \"r\", capsize = capsize, fmt = \"^\", xerr = xerr)\n",
    "plt.legend()\n",
    "plt.xlabel(\"$f_1$\")\n",
    "plt.xscale(\"symlog\", linthresh=linthresh)\n",
    "plt.ylabel(\"maxSIC\")\n",
    "plt.ylim(0.9, 3)\n",
    "plt.title(\"Event space\")\n",
    "plt.show()\n",
    "pp.savefig(fig)\n",
    "\n",
    "fig = plt.figure(figsize = (5,4))\n",
    "plt.errorbar(f1_vals, avg_full_sup_results_dict[\"FPRatTPR\"][0], yerr = avg_full_sup_results_dict[\"FPRatTPR\"][1], label = \"Fully Supervised\", color = \"k\", capsize = capsize, fmt = \"o\", xerr = xerr)\n",
    "plt.errorbar(f1_vals, avg_cwola_results_dict[\"FPRatTPR\"][0], yerr = avg_cwola_results_dict[\"FPRatTPR\"][1], label = \"CWoLa\", color = \"r\", capsize = capsize, fmt = \"^\", xerr = xerr)\n",
    "plt.legend()\n",
    "plt.xlabel(\"$f_1$\")\n",
    "plt.xscale(\"symlog\", linthresh=linthresh)\n",
    "plt.ylabel(\"FPR @ TPR = 0.5\")\n",
    "plt.ylim(0.1, 0.8)\n",
    "plt.title(\"Event space\")\n",
    "plt.show()\n",
    "pp.savefig(fig)\n",
    "\n",
    "\n",
    "    \n",
    "pp.savefig(fig)\n",
    "pp.close()\n",
    "\n",
    "\n"
   ]
  },
  {
   "cell_type": "code",
   "execution_count": null,
   "id": "5e0db647",
   "metadata": {},
   "outputs": [],
   "source": []
  },
  {
   "cell_type": "code",
   "execution_count": null,
   "id": "f8295255",
   "metadata": {},
   "outputs": [],
   "source": []
  },
  {
   "cell_type": "code",
   "execution_count": null,
   "id": "958fc70a",
   "metadata": {},
   "outputs": [],
   "source": []
  },
  {
   "cell_type": "code",
   "execution_count": null,
   "id": "c85538a4",
   "metadata": {},
   "outputs": [],
   "source": []
  },
  {
   "cell_type": "code",
   "execution_count": null,
   "id": "5ad41f42",
   "metadata": {},
   "outputs": [],
   "source": []
  },
  {
   "cell_type": "code",
   "execution_count": null,
   "id": "4bf9a7dc",
   "metadata": {},
   "outputs": [],
   "source": []
  },
  {
   "cell_type": "code",
   "execution_count": null,
   "id": "784af482",
   "metadata": {},
   "outputs": [],
   "source": []
  },
  {
   "cell_type": "code",
   "execution_count": null,
   "id": "92554cc4",
   "metadata": {},
   "outputs": [],
   "source": []
  },
  {
   "cell_type": "code",
   "execution_count": null,
   "id": "e045efba",
   "metadata": {},
   "outputs": [],
   "source": []
  }
 ],
 "metadata": {
  "kernelspec": {
   "display_name": "Python 3",
   "language": "python",
   "name": "python3"
  },
  "language_info": {
   "codemirror_mode": {
    "name": "ipython",
    "version": 3
   },
   "file_extension": ".py",
   "mimetype": "text/x-python",
   "name": "python",
   "nbconvert_exporter": "python",
   "pygments_lexer": "ipython3",
   "version": "3.6.8"
  }
 },
 "nbformat": 4,
 "nbformat_minor": 5
}
