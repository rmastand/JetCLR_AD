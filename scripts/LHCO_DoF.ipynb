{
 "cells": [
  {
   "cell_type": "markdown",
   "id": "7a2b064c",
   "metadata": {},
   "source": [
    "A notebook to check the actual dimensionality of the LHCO dataset"
   ]
  },
  {
   "cell_type": "code",
   "execution_count": 1,
   "id": "8c3e7a2b",
   "metadata": {},
   "outputs": [],
   "source": [
    "# standard imports\n",
    "import sys\n",
    "import os\n",
    "import numpy as np\n",
    "import matplotlib.pyplot as plt\n",
    "import pandas as pd"
   ]
  },
  {
   "cell_type": "code",
   "execution_count": 4,
   "id": "46090a1c",
   "metadata": {},
   "outputs": [],
   "source": [
    "# specific imports\n",
    "from modules.file_readers import phi_wrap, pandas_to_unclustered_particles, get_highest_mass_constituents, pandas_to_features, select_jets_1, select_jets_2 \n",
    "\n",
    "# path to LHCO data\n",
    "path_to_unclustered = \"/clusterfs/ml4hep/rrmastandrea/LHC0/events_anomalydetection.h5\""
   ]
  },
  {
   "cell_type": "code",
   "execution_count": null,
   "id": "95f56eaa",
   "metadata": {},
   "outputs": [
    {
     "name": "stdout",
     "output_type": "stream",
     "text": [
      "Reading in lines 0 to 100000000000 of dataset ...\n"
     ]
    }
   ],
   "source": [
    "begin = 0\n",
    "end = 100000000000\n",
    "delta = end\n",
    "\n",
    "\n",
    "for start in range(begin,end,delta):\n",
    "    stop = start + delta\n",
    "\n",
    "    print(\"Reading in lines\", start, \"to\", stop, \"of dataset ...\")\n",
    "\n",
    "    # Read in the file\n",
    "    unclustered_particles_data = pd.read_hdf(path_to_unclustered,start = start, stop = stop)\n",
    "    \n",
    "    # get the number of nonzero values in each row\n",
    "    nonzero_dof = unclustered_particles_data.astype(bool).sum(axis=1)\n",
    "    \n",
    "    # convert to a list\n",
    "    nonzero_dof = list(nonzero_dof)\n",
    "\n",
    "print(\"Done\")\n",
    "    \n"
   ]
  },
  {
   "cell_type": "code",
   "execution_count": null,
   "id": "485212bb",
   "metadata": {},
   "outputs": [],
   "source": [
    "plt.figure()\n",
    "plt.hist(nonzero_dof)\n",
    "plt.show()"
   ]
  },
  {
   "cell_type": "code",
   "execution_count": null,
   "id": "d737dd26",
   "metadata": {},
   "outputs": [],
   "source": [
    "print(\"Mean # DoF / collision:\", np.mean(nonzero_dof))\n",
    "print(\"Std dev # DoF / collision:\", np.std(nonzero_dof))"
   ]
  },
  {
   "cell_type": "code",
   "execution_count": null,
   "id": "ed9bf656",
   "metadata": {},
   "outputs": [],
   "source": []
  }
 ],
 "metadata": {
  "kernelspec": {
   "display_name": "Python 3",
   "language": "python",
   "name": "python3"
  },
  "language_info": {
   "codemirror_mode": {
    "name": "ipython",
    "version": 3
   },
   "file_extension": ".py",
   "mimetype": "text/x-python",
   "name": "python",
   "nbconvert_exporter": "python",
   "pygments_lexer": "ipython3",
   "version": "3.6.8"
  }
 },
 "nbformat": 4,
 "nbformat_minor": 5
}
