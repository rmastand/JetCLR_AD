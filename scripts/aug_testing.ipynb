{
 "cells": [
  {
   "cell_type": "code",
   "execution_count": 1,
   "id": "7e80fafd-9a03-435d-a5eb-d6132a9012e3",
   "metadata": {},
   "outputs": [],
   "source": [
    "import sys\n",
    "# load standard python modules\n",
    "import os\n",
    "import numpy as np\n",
    "import matplotlib.pyplot as plt\n",
    "import random\n",
    "import time\n",
    "import pandas as pd\n",
    "from sklearn.model_selection import train_test_split\n",
    "from sklearn.utils import shuffle\n",
    "from sklearn.linear_model import LinearRegression\n",
    "from sklearn.metrics import roc_auc_score\n",
    "\n",
    "from sklearn.metrics import roc_curve\n",
    "\n",
    "plt.style.use(\"science.mplstyle\")\n",
    "\n",
    "from matplotlib.backends.backend_pdf import PdfPages\n",
    "\n",
    "\n",
    "\n",
    "\n",
    "# load custom modules required for jetCLR training\n",
    "from modules.jet_augs import apply_single_jet_augs, translate_jets, rotate_jets, rescale_pts, distort_jets, collinear_fill_jets, crop_jets\n",
    "from modules.jet_augs import shift_eta, shift_phi\n",
    "from modules.perf_eval import get_perf_stats, linear_classifier_test, plot_losses\n",
    "from modules.jet_visualizers import plot_jets_phase_plane, plot_nsubs, plot_mj, plot_mjj\n"
   ]
  },
  {
   "cell_type": "markdown",
   "id": "0f768aa5",
   "metadata": {},
   "source": [
    "# Load in the processed data"
   ]
  },
  {
   "cell_type": "code",
   "execution_count": 2,
   "id": "d5078731",
   "metadata": {},
   "outputs": [
    {
     "name": "stdout",
     "output_type": "stream",
     "text": [
      "/global/home/users/rrmastandrea/training_data/test\n",
      "CLR training data shape: (12000, 3, 102)\n",
      "CLR val data shape: (8000, 3, 102)\n",
      "BC training data shape: (40279, 3, 102)\n",
      "BC training labels shape: (40279,)\n",
      "BC val data shape: (16111, 3, 102)\n",
      "BC val labels shape: (16111,)\n",
      "BC test data shape: (10742, 3, 102)\n",
      "BC test labels shape: (10742,)\n"
     ]
    }
   ],
   "source": [
    "path_to_save_dir = \"/global/home/users/rrmastandrea/training_data/\"\n",
    "\n",
    "\n",
    "save_id_dir = \"n_sig_4030_n_bkg_8000_n_nonzero_50_n_pad_0_n_jet_2/\"\n",
    "save_id_dir = \"test\"\n",
    "grading = 50\n",
    "\n",
    "path_to_data = path_to_save_dir+save_id_dir\n",
    "print(path_to_data)\n",
    "\n",
    "\n",
    "clr_train = np.load(path_to_data+\"clr_train.npy\")\n",
    "clr_val = np.load(path_to_data+\"clr_val.npy\")\n",
    "data_train = np.load(path_to_data+\"data_train.npy\")\n",
    "labels_train = np.load(path_to_data+\"labels_train.npy\")\n",
    "data_val = np.load(path_to_data+\"data_val.npy\")\n",
    "labels_val = np.load(path_to_data+\"labels_val.npy\")\n",
    "data_test_f = np.load(path_to_data+\"data_test_f.npy\")\n",
    "labels_test_f = np.load(path_to_data+\"labels_test_f.npy\")\n",
    "\n",
    "# print data dimensions\n",
    "print( \"CLR training data shape: \" + str( clr_train.shape ), flush=True)\n",
    "print( \"CLR val data shape: \" + str( clr_val.shape ), flush=True)\n",
    "print( \"BC training data shape: \" + str( data_train.shape ), flush=True)\n",
    "print( \"BC training labels shape: \" + str( labels_train.shape ), flush=True)\n",
    "print( \"BC val data shape: \" + str( data_val.shape ), flush=True)\n",
    "print( \"BC val labels shape: \" + str( labels_val.shape ), flush=True)\n",
    "print( \"BC test data shape: \" + str( data_test_f.shape ), flush=True)\n",
    "print( \"BC test labels shape: \" + str( labels_test_f.shape ), flush=True)\n",
    "\n",
    "\n",
    "# Plot num constituents\n",
    "\n",
    "def get_num_constits(dataset):\n",
    "    consits_list = []\n",
    "    for collision in dataset:\n",
    "        pts = collision[0,:]\n",
    "\n",
    "        pads = np.where(pts==0)\n",
    "        consits_list.append(dataset.shape[2]-len(pads[0]))\n",
    "        \n",
    "    return consits_list\n",
    "        "
   ]
  },
  {
   "cell_type": "markdown",
   "id": "d2e82160-2164-4206-9ea1-76cb130c0567",
   "metadata": {},
   "source": [
    "# Plot the jet constituents next to the augmented versions"
   ]
  },
  {
   "cell_type": "code",
   "execution_count": 3,
   "id": "f66a6402-43b2-42d7-b387-a812915ccaae",
   "metadata": {
    "scrolled": false
   },
   "outputs": [
    {
     "data": {
      "image/png": "[encoded data removed]",
      "text/plain": [
       "<Figure size 1008x432 with 2 Axes>"
      ]
     },
     "metadata": {
      "needs_background": "light"
     },
     "output_type": "display_data"
    }
   ],
   "source": [
    "#path_to_data_storage = \"/clusterfs/ml4hep/rrmastandrea/processed_data/\"+\"dijet\"+\"/\"\n",
    "\n",
    "#high_mass_consits_wjet_deltaJ1 = np.load(path_to_data_storage+\"50_jets_J1_pi_2.npy\")\n",
    "\n",
    "max_pt = np.max(clr_train[0][0])\n",
    "ptcm = 5*max_pt\n",
    "\n",
    "rot = True\n",
    "trs = False\n",
    "trsw = .5\n",
    "dis = True\n",
    "ptst = .1\n",
    "col = True\n",
    "ptcm = .1\n",
    "\n",
    "np.random.seed(0)\n",
    "\n",
    "\n",
    "\n",
    "orig_events, mod_events = apply_single_jet_augs(clr_train, 2, \"J1_phi_only_pi_2\", rot, trs, dis, col)\n",
    "\n",
    "\n",
    "mod_events = shift_phi(mod_events)\n",
    "mod_events = shift_eta(mod_events)\n",
    "\n",
    "\n",
    "for index_to_plot in range(20,21):\n",
    " \n",
    "    fig = plot_jets_phase_plane(orig_events[index_to_plot], mod_events[index_to_plot], .5, xlims=(-2.5,2.5), ylims=(-2.5,2.5))\n",
    "\n",
    "    \n",
    "img_name = \"phase_plane.pdf\"\n",
    "pp = PdfPages(img_name)\n",
    "pp.savefig(fig)\n",
    "pp.close()\n",
    "\n"
   ]
  },
  {
   "cell_type": "markdown",
   "id": "f1b800f8",
   "metadata": {
    "scrolled": false
   },
   "source": [
    "# Plot nsubjettiness"
   ]
  },
  {
   "cell_type": "code",
   "execution_count": 4,
   "id": "2838b294-8030-4264-9fc5-e787408bc9f2",
   "metadata": {
    "scrolled": false
   },
   "outputs": [],
   "source": [
    "# calculate n sub jettiness\n",
    "\n",
    "# split the list of events into a larger list of jets\n",
    "\n",
    "#orig_events_long = np.concatenate(np.split(orig_events, 2, axis = 2), axis = 0)\n",
    "#mod_events_long = np.concatenate(np.split(mod_events, 2, axis = 2), axis = 0)\n",
    "\n",
    "orig_events_hardest = np.split(orig_events, 2, axis = 2)[0]\n",
    "orig_events_second = np.split(orig_events, 2, axis = 2)[1]\n",
    "mod_events_hardest = np.split(mod_events, 2, axis = 2)[0]\n",
    "mod_events_second = np.split(mod_events, 2, axis = 2)[1]"
   ]
  },
  {
   "cell_type": "code",
   "execution_count": 5,
   "id": "b91182c4",
   "metadata": {},
   "outputs": [],
   "source": [
    "#plot_nsubs(orig_events_hardest,mod_events_hardest,title=\" hardest mass\")\n",
    "#plot_nsubs(orig_events_second,mod_events_second,title=\" second mass\")\n"
   ]
  },
  {
   "cell_type": "markdown",
   "id": "0c5f5e95-c2d7-42dc-8e34-9b5cf14dd5cf",
   "metadata": {},
   "source": []
  },
  {
   "cell_type": "code",
   "execution_count": 7,
   "id": "8cc28ffb-1178-41ef-b7b0-cf22f760f241",
   "metadata": {},
   "outputs": [
    {
     "data": {
      "image/png": "[encoded data removed]",
      "text/plain": [
       "<Figure size 432x432 with 1 Axes>"
      ]
     },
     "metadata": {
      "needs_background": "light"
     },
     "output_type": "display_data"
    }
   ],
   "source": [
    "fig = plot_mj(orig_events_hardest,mod_events_hardest, title=\"\")\n",
    "#plot_mj(orig_events_second,mod_events_second, title=\" second mass\")\n",
    "\n",
    "\n",
    "\n",
    "    \n",
    "img_name = \"mass.pdf\"\n",
    "pp = PdfPages(img_name)\n",
    "pp.savefig(fig)\n",
    "pp.close()\n"
   ]
  },
  {
   "cell_type": "code",
   "execution_count": null,
   "id": "2205eac3-c69d-4b54-9acf-abf238eb51b8",
   "metadata": {
    "scrolled": false
   },
   "outputs": [],
   "source": [
    "#plot_mjj(orig_events_hardest, orig_events_second, mod_events_hardest, mod_events_second, bins = np.linspace(0,6000,40), title = \", col split\")\n"
   ]
  },
  {
   "cell_type": "code",
   "execution_count": null,
   "id": "45c1ad8f-d110-4896-b89e-e69e603adaf0",
   "metadata": {
    "scrolled": false
   },
   "outputs": [],
   "source": []
  },
  {
   "cell_type": "code",
   "execution_count": null,
   "id": "fca05eca-25ef-4c41-94bb-404aaae36882",
   "metadata": {},
   "outputs": [],
   "source": []
  },
  {
   "cell_type": "code",
   "execution_count": null,
   "id": "cffee9e5-937c-475d-ab53-ba53f2f6dd20",
   "metadata": {},
   "outputs": [],
   "source": [
    "# plot for poster\n",
    "import scipy.stats as stats\n",
    "\n",
    "n_sig = 100\n",
    "n_bkg = 10000\n",
    "\n",
    "signal_mean = 300\n",
    "signal_sigma = 20\n",
    "background = np.random.exponential(scale=300.0, size=n_bkg)\n",
    "signal = np.random.normal(signal_mean,signal_sigma,n_sig)\n",
    "\n",
    "total = np.concatenate((signal,background))\n",
    "    \n",
    "bins = np.linspace(0,500,50)\n",
    "plt.hist(total, bins, alpha = .4, color = \"mediumseagreen\", label=\"data\")\n",
    "plt.plot(bins, (n_sig*(bins[1]-bins[0]))*stats.norm.pdf(bins, signal_mean, signal_sigma), \n",
    "         color = \"darkcyan\", label = \"signal dist.\", linewidth = 3)\n",
    "plt.xlabel(\"Feature\")\n",
    "plt.ylabel(\"Counts\")\n",
    "plt.legend()\n"
   ]
  },
  {
   "cell_type": "code",
   "execution_count": null,
   "id": "0b948293-9a47-477f-a50a-9cb1375a1a6a",
   "metadata": {},
   "outputs": [],
   "source": []
  },
  {
   "cell_type": "code",
   "execution_count": null,
   "id": "e7d393ec-4032-4883-9c2b-f59549a851d8",
   "metadata": {},
   "outputs": [],
   "source": []
  },
  {
   "cell_type": "code",
   "execution_count": null,
   "id": "7f88324d-16ea-4802-8f72-acd1637ee254",
   "metadata": {},
   "outputs": [],
   "source": []
  },
  {
   "cell_type": "code",
   "execution_count": null,
   "id": "c9b5b18c-c754-4d6f-96e2-e6ceb3ea72c4",
   "metadata": {},
   "outputs": [],
   "source": []
  },
  {
   "cell_type": "code",
   "execution_count": null,
   "id": "224e9bab",
   "metadata": {},
   "outputs": [],
   "source": []
  },
  {
   "cell_type": "code",
   "execution_count": null,
   "id": "9c955666",
   "metadata": {},
   "outputs": [],
   "source": []
  },
  {
   "cell_type": "code",
   "execution_count": null,
   "id": "cb36fe8c",
   "metadata": {},
   "outputs": [],
   "source": []
  }
 ],
 "metadata": {
  "kernelspec": {
   "display_name": "Python 3",
   "language": "python",
   "name": "python3"
  },
  "language_info": {
   "codemirror_mode": {
    "name": "ipython",
    "version": 3
   },
   "file_extension": ".py",
   "mimetype": "text/x-python",
   "name": "python",
   "nbconvert_exporter": "python",
   "pygments_lexer": "ipython3",
   "version": "3.6.8"
  }
 },
 "nbformat": 4,
 "nbformat_minor": 5
}
