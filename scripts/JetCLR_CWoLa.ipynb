{
 "cells": [
  {
   "cell_type": "code",
   "execution_count": 1,
   "id": "50fed01a",
   "metadata": {},
   "outputs": [
    {
     "name": "stdout",
     "output_type": "stream",
     "text": [
      "device: cuda\n"
     ]
    }
   ],
   "source": [
    "#!/usr/bin/env python\n",
    "# coding: utf-8\n",
    "\n",
    "import sys\n",
    "# load standard python modules\n",
    "\n",
    "import os\n",
    "import numpy as np\n",
    "import matplotlib.pyplot as plt\n",
    "import random\n",
    "import time\n",
    "import pandas as pd\n",
    "from sklearn.model_selection import train_test_split\n",
    "from sklearn.utils import shuffle\n",
    "from sklearn.linear_model import LinearRegression\n",
    "from sklearn.linear_model import Ridge\n",
    "from sklearn.metrics import roc_auc_score\n",
    "from sklearn.metrics import roc_curve\n",
    "from matplotlib.backends.backend_pdf import PdfPages\n",
    "\n",
    "# load torch modules\n",
    "import torch\n",
    "import torch.nn as nn\n",
    "import torch.nn.functional as F\n",
    "\n",
    "# load custom modules required for jetCLR training\n",
    "from modules.jet_augs import remove_jet_and_rescale_pT\n",
    "from modules.transformer import Transformer\n",
    "from modules.losses import contrastive_loss, align_loss, uniform_loss, contrastive_loss_num_den\n",
    "from modules.perf_eval import get_perf_stats, linear_classifier_test, plot_losses\n",
    "from modules.neural_net import create_and_run_nn\n",
    "\n",
    "\n",
    "seed = 1\n",
    "torch.manual_seed(seed)\n",
    "random.seed(seed)\n",
    "np.random.seed(seed)\n",
    "torch.cuda.empty_cache()\n",
    "\n",
    "\n",
    "from numba import cuda \n",
    "os.environ[\"CUDA_VISIBLE_DEVICES\"]=\"3\"\n",
    "device = cuda.get_current_device()\n",
    "device.reset()\n",
    "\n",
    "torch.set_num_threads(2)\n",
    "\n",
    "# set gpu device\n",
    "device = torch.device( \"cuda\" if torch.cuda.is_available() else \"cpu\")\n",
    "print( \"device: \" + str( device ), flush=True)\n",
    "\n",
    "\n"
   ]
  },
  {
   "cell_type": "markdown",
   "id": "c979e2a4",
   "metadata": {},
   "source": [
    "# Load in the data + crop"
   ]
  },
  {
   "cell_type": "code",
   "execution_count": 2,
   "id": "65a07adf",
   "metadata": {},
   "outputs": [
    {
     "name": "stdout",
     "output_type": "stream",
     "text": [
      "/global/home/users/rrmastandrea/training_data/CWoLa_n_sig_15900_n_bkg_0_n_nonzero_50_n_pad_0_n_jet_2/\n",
      "/global/home/users/rrmastandrea/training_data/CWoLa_n_sig_0_n_bkg_15900_n_nonzero_50_n_pad_0_n_jet_2/\n",
      "/global/home/users/rrmastandrea/training_data/STANDARD_TEST_SET_n_sig_10k_n_bkg_10k_n_nonzero_50_n_pad_0_n_jet_2/\n",
      "Sig data shape: (15900, 3, 100)\n",
      "Sig labels shape: (15900,)\n",
      "Bkg data shape: (15900, 3, 100)\n",
      "Sig data shape: (15900,)\n",
      "STS data shape: (20000, 3, 100)\n",
      "STS labels shape: (20000,)\n"
     ]
    }
   ],
   "source": [
    "path_to_save_dir = \"/global/home/users/rrmastandrea/training_data/\"\n",
    "\n",
    "sig_samp_id = \"CWoLa_n_sig_15900_n_bkg_0_n_nonzero_50_n_pad_0_n_jet_2/\"\n",
    "bkg_samp_id = \"CWoLa_n_sig_0_n_bkg_15900_n_nonzero_50_n_pad_0_n_jet_2/\"\n",
    "\n",
    "TEST_dir = \"STANDARD_TEST_SET_n_sig_10k_n_bkg_10k_n_nonzero_50_n_pad_0_n_jet_2/\"\n",
    "\n",
    "n_constits_max = 50\n",
    "n_jets = 2\n",
    "\n",
    "path_to_sig_data = path_to_save_dir+sig_samp_id\n",
    "print(path_to_sig_data)\n",
    "path_to_bkg_data = path_to_save_dir+bkg_samp_id\n",
    "print(path_to_bkg_data)\n",
    "\n",
    "path_to_STS = path_to_save_dir+TEST_dir\n",
    "print(path_to_STS)\n",
    "\n",
    "\n",
    "sig_data = np.load(path_to_sig_data+\"data_train.npy\")\n",
    "sig_labels = np.load(path_to_sig_data+\"labels_train.npy\")\n",
    "bkg_data = np.load(path_to_bkg_data+\"data_train.npy\")\n",
    "bkg_labels = np.load(path_to_bkg_data+\"labels_train.npy\")\n",
    "\n",
    "\n",
    "STS_data = np.load(path_to_STS+\"data.npy\")\n",
    "STS_labels = np.load(path_to_STS+\"labels.npy\")\n",
    "\n",
    "n = 26000\n",
    "\n",
    "# Crop the data, rescale pt\n",
    "cropped_sig_data = remove_jet_and_rescale_pT(sig_data, n_jets)[:n,:,:]\n",
    "cropped_bkg_data = remove_jet_and_rescale_pT(bkg_data, n_jets)[:n,:,:]\n",
    "sig_labels = sig_labels[:n]\n",
    "bkg_labels = bkg_labels[:n]\n",
    "\n",
    "cropped_STS_data = remove_jet_and_rescale_pT(STS_data, n_jets)\n",
    "\n",
    "# print data dimensions\n",
    "print( \"Sig data shape: \" + str( cropped_sig_data.shape ), flush=True)\n",
    "print( \"Sig labels shape: \" + str( sig_labels.shape ), flush=True)\n",
    "print( \"Bkg data shape: \" + str( cropped_bkg_data.shape ), flush=True)\n",
    "print( \"Sig data shape: \" + str( bkg_labels.shape ), flush=True)\n",
    "\n",
    "print( \"STS data shape: \" + str( cropped_STS_data.shape ), flush=True)\n",
    "print( \"STS labels shape: \" + str( STS_labels.shape ), flush=True)\n"
   ]
  },
  {
   "cell_type": "markdown",
   "id": "82151552",
   "metadata": {},
   "source": [
    "# Load in the transformer net"
   ]
  },
  {
   "cell_type": "code",
   "execution_count": 3,
   "id": "d05fe192",
   "metadata": {},
   "outputs": [
    {
     "data": {
      "text/plain": [
       "Transformer(\n",
       "  (embedding): Linear(in_features=3, out_features=128, bias=True)\n",
       "  (decoder): Linear(in_features=128, out_features=1, bias=True)\n",
       "  (transformer): TransformerEncoder(\n",
       "    (layers): ModuleList(\n",
       "      (0): TransformerEncoderLayer(\n",
       "        (self_attn): MultiheadAttention(\n",
       "          (out_proj): NonDynamicallyQuantizableLinear(in_features=128, out_features=128, bias=True)\n",
       "        )\n",
       "        (linear1): Linear(in_features=128, out_features=128, bias=True)\n",
       "        (dropout): Dropout(p=0.1, inplace=False)\n",
       "        (linear2): Linear(in_features=128, out_features=128, bias=True)\n",
       "        (norm1): LayerNorm((128,), eps=1e-05, elementwise_affine=True)\n",
       "        (norm2): LayerNorm((128,), eps=1e-05, elementwise_affine=True)\n",
       "        (dropout1): Dropout(p=0.1, inplace=False)\n",
       "        (dropout2): Dropout(p=0.1, inplace=False)\n",
       "      )\n",
       "      (1): TransformerEncoderLayer(\n",
       "        (self_attn): MultiheadAttention(\n",
       "          (out_proj): NonDynamicallyQuantizableLinear(in_features=128, out_features=128, bias=True)\n",
       "        )\n",
       "        (linear1): Linear(in_features=128, out_features=128, bias=True)\n",
       "        (dropout): Dropout(p=0.1, inplace=False)\n",
       "        (linear2): Linear(in_features=128, out_features=128, bias=True)\n",
       "        (norm1): LayerNorm((128,), eps=1e-05, elementwise_affine=True)\n",
       "        (norm2): LayerNorm((128,), eps=1e-05, elementwise_affine=True)\n",
       "        (dropout1): Dropout(p=0.1, inplace=False)\n",
       "        (dropout2): Dropout(p=0.1, inplace=False)\n",
       "      )\n",
       "    )\n",
       "  )\n",
       "  (head_layers): ModuleList(\n",
       "    (0): Linear(in_features=128, out_features=128, bias=True)\n",
       "    (1): Linear(in_features=128, out_features=128, bias=True)\n",
       "  )\n",
       ")"
      ]
     },
     "execution_count": 3,
     "metadata": {},
     "output_type": "execute_result"
    }
   ],
   "source": [
    "model_dim = 128\n",
    "\n",
    "exp_id = \"SB_ratios_22_18_01/0kS_16kB_\"+str(model_dim)+\"d/\"\n",
    "\n",
    "\n",
    "# set up results directory\n",
    "base_dir = \"/global/home/users/rrmastandrea/MJetCLR/\"  # change this to your working directory\n",
    "expt_dir = base_dir + \"projects/rep_learning/experiments/\" + exp_id + \"/\"\n",
    "\n",
    "# transformer hyperparams\n",
    "# input dim to the transformer -> (pt,eta,phi)\n",
    "input_dim = 3\n",
    "output_dim = model_dim\n",
    "dim_feedforward = model_dim\n",
    "n_heads = 4\n",
    "n_layers = 2\n",
    "n_head_layers = 2\n",
    "opt = \"adam\"\n",
    "\n",
    "mask= False\n",
    "cmask = True\n",
    "\n",
    "learning_rate_trans = 0.0001\n",
    "\n",
    "# Loading in the final transformer\n",
    "\n",
    "loaded_net = Transformer( input_dim, model_dim, output_dim, n_heads, dim_feedforward, \n",
    "                  n_layers, learning_rate_trans, n_head_layers, dropout=0.1, opt=opt )\n",
    "loaded_net.load_state_dict(torch.load(expt_dir+\"final_model_\"+str(n_constits_max)+\".pt\"))\n",
    "loaded_net.to( device )\n",
    "loaded_net.eval()\n",
    "\n"
   ]
  },
  {
   "cell_type": "markdown",
   "id": "70ae59d4",
   "metadata": {},
   "source": [
    "# Send the data into the latent space"
   ]
  },
  {
   "cell_type": "code",
   "execution_count": 4,
   "id": "11f8e582",
   "metadata": {},
   "outputs": [
    {
     "name": "stdout",
     "output_type": "stream",
     "text": [
      "Loading data into net...\n",
      "Data loaded!\n"
     ]
    }
   ],
   "source": [
    "\n",
    "print(\"Loading data into net...\")\n",
    "sig_reps = F.normalize( loaded_net.forward_batchwise( torch.Tensor( cropped_sig_data ).transpose(1,2), cropped_sig_data.shape[0], use_mask=mask, use_continuous_mask=cmask ).detach().cpu(), dim=-1  ).numpy()\n",
    "bkg_reps = F.normalize( loaded_net.forward_batchwise( torch.Tensor( cropped_bkg_data ).transpose(1,2), cropped_bkg_data.shape[0], use_mask=mask, use_continuous_mask=cmask ).detach().cpu(), dim=-1  ).numpy()\n",
    "STS_reps = F.normalize( loaded_net.forward_batchwise( torch.Tensor( cropped_STS_data ).transpose(1,2), cropped_bkg_data.shape[0], use_mask=mask, use_continuous_mask=cmask ).detach().cpu(), dim=-1  ).numpy()\n",
    "\n",
    "print(\"Data loaded!\")\n",
    "\n"
   ]
  },
  {
   "cell_type": "markdown",
   "id": "42d16ecd",
   "metadata": {},
   "source": [
    "# Functions to generate mixed samples, then train-val-test splits"
   ]
  },
  {
   "cell_type": "code",
   "execution_count": 5,
   "id": "88294c0e",
   "metadata": {},
   "outputs": [],
   "source": [
    "# Make mixed samples\n",
    "\n",
    "def generate_mixed_sample(sig_set, bkg_set, f):\n",
    "    \n",
    "    \"\"\"\n",
    "    INPUTS\n",
    "    f: signal fraction for sample 1\n",
    "        -- by default, the signal fraction for sample 2 is 1 - f\n",
    "    \n",
    "    OUTPUTS\n",
    "    M1_reps, M2_reps : shuffled array of [signal + background] samples\n",
    "    \"\"\"\n",
    "    ((sig_M1, sig_M2),\n",
    "     (bkg_M2, bkg_M1),) = [train_test_split(arr, test_size=(1-f)) for arr in [\n",
    "                                                sig_set,\n",
    "                                                bkg_set,]] \n",
    "    # concatenate the signal, background\n",
    "    M1_reps = np.concatenate((sig_M1, bkg_M1))\n",
    "    M2_reps = np.concatenate((sig_M2, bkg_M2))\n",
    "    \n",
    "    # shuffle\n",
    "    M1_reps = shuffle(M1_reps)\n",
    "    M2_reps = shuffle(M2_reps)\n",
    "    \n",
    "    return M1_reps, M2_reps\n",
    "\n",
    "# Make the test - val - train splits\n",
    "\n",
    "def generate_train_test_val(M1, M2, test_size = 0.0, val_size = 0.3):\n",
    "    \"\"\"\n",
    "    INPUTS\n",
    "    M1: np.array of data to be given the label 1\n",
    "    M2: np.array of data to be given the label 0\n",
    "    \n",
    "    OUPUTS\n",
    "    training, validation, and testing datasets + labels\n",
    "    \n",
    "    \"\"\"\n",
    "    \"\"\"\n",
    "    # split data into train-test\n",
    "    ((M1_train, M1_test),\n",
    "     (M2_train, M2_test),) = [train_test_split(arr, test_size=test_size) for arr in [\n",
    "                                                M1,\n",
    "                                               M2,]]\n",
    "\n",
    "    \"\"\"\n",
    "    # split train data into train-val\n",
    "    ((M1_train, M1_val),\n",
    "     (M2_train, M2_val),) = [train_test_split(arr, test_size=val_size) for arr in [\n",
    "                                                M1,\n",
    "                                                M2,]]\n",
    "\n",
    "    # prepare the datasets + labels\n",
    "    data_train = np.concatenate((M1_train, M2_train))\n",
    "    labels_train = np.concatenate([np.ones(M1_train.shape[0]),np.zeros(M2_train.shape[0])])\n",
    "    data_train, labels_train = shuffle(data_train, labels_train)\n",
    "\n",
    "    data_val = np.concatenate((M1_val, M2_val))\n",
    "    labels_val = np.concatenate([np.ones(M1_val.shape[0]),np.zeros(M2_val.shape[0])])\n",
    "    data_val, labels_val = shuffle(data_val, labels_val)\n",
    "    \n",
    "    \"\"\"\n",
    "    data_test = np.concatenate((M1_test, M2_test))\n",
    "    labels_test = np.concatenate([np.ones(M1_test.shape[0]),np.zeros(M2_test.shape[0])])\n",
    "    data_test, labels_test = shuffle(data_test, labels_test)\n",
    "    \"\"\"\n",
    "    \n",
    "    return data_train, labels_train, data_val, labels_val\n",
    "\n",
    "    "
   ]
  },
  {
   "cell_type": "markdown",
   "id": "189cd7ec",
   "metadata": {},
   "source": [
    "# Testing the classifier (fully supervised)"
   ]
  },
  {
   "cell_type": "code",
   "execution_count": 6,
   "id": "1f9656b9",
   "metadata": {
    "scrolled": false
   },
   "outputs": [
    {
     "data": {
      "image/png": "[encoded data removed]",
      "text/plain": [
       "<Figure size 432x288 with 1 Axes>"
      ]
     },
     "metadata": {
      "needs_background": "light"
     },
     "output_type": "display_data"
    }
   ],
   "source": [
    "# Make the datasets\n",
    "\n",
    "M1 = sig_reps\n",
    "M2 = bkg_reps\n",
    "bins = np.linspace(-.5,.4,60)\n",
    "\n",
    "layer = 0\n",
    "    \n",
    "S = np.reshape(M1[:,layer,:], (M1.shape[0]*M1.shape[2],1))\n",
    "B = np.reshape(M2[:,layer,:], (M2.shape[0]*M2.shape[2],1))\n",
    "\n",
    "\n",
    "\n",
    "plt.figure()\n",
    "plt.hist(S, bins, label = \"S\", alpha = 0.5)\n",
    "plt.hist(B, bins, label = \"B\", alpha = 0.5)\n",
    "plt.legend()\n",
    "plt.title(\"Transformer layer \"+str(layer))\n",
    "plt.show()"
   ]
  },
  {
   "cell_type": "code",
   "execution_count": null,
   "id": "f4cc3ad6",
   "metadata": {
    "scrolled": false
   },
   "outputs": [
    {
     "name": "stdout",
     "output_type": "stream",
     "text": [
      "Train data shape: (22260, 3, 128)\n",
      "Train labels shape: (22260,)\n",
      "Val data shape: (9540, 3, 128)\n",
      "Val labels shape: (9540,)\n",
      "On layer 0\n",
      "Starting training...\n"
     ]
    },
    {
     "name": "stderr",
     "output_type": "stream",
     "text": [
      " 70%|███████   | 700/1000 [01:32<00:39,  7.60it/s]\n"
     ]
    },
    {
     "name": "stdout",
     "output_type": "stream",
     "text": [
      "INFO: Early stopping\n",
      "Finished Training\n"
     ]
    },
    {
     "data": {
      "image/png": "[encoded data removed]",
      "text/plain": [
       "<Figure size 432x288 with 1 Axes>"
      ]
     },
     "metadata": {
      "needs_background": "light"
     },
     "output_type": "display_data"
    },
    {
     "name": "stderr",
     "output_type": "stream",
     "text": [
      "/global/home/users/rrmastandrea/computingML2/lib64/python3.6/site-packages/ipykernel_launcher.py:49: RuntimeWarning: divide by zero encountered in true_divide\n"
     ]
    },
    {
     "data": {
      "image/png": "[encoded data removed]",
      "text/plain": [
       "<Figure size 432x288 with 1 Axes>"
      ]
     },
     "metadata": {
      "needs_background": "light"
     },
     "output_type": "display_data"
    },
    {
     "name": "stderr",
     "output_type": "stream",
     "text": [
      "/global/home/users/rrmastandrea/computingML2/lib64/python3.6/site-packages/ipykernel_launcher.py:61: RuntimeWarning: divide by zero encountered in true_divide\n",
      "/global/home/users/rrmastandrea/computingML2/lib64/python3.6/site-packages/ipykernel_launcher.py:61: RuntimeWarning: invalid value encountered in true_divide\n"
     ]
    },
    {
     "name": "stdout",
     "output_type": "stream",
     "text": [
      "Accuracy of the network: 74 %\n",
      "ROC AUC: 0.8494916300000002\n",
      "On layer 1\n",
      "Starting training...\n"
     ]
    },
    {
     "name": "stderr",
     "output_type": "stream",
     "text": [
      " 50%|█████     | 501/1000 [00:57<00:59,  8.37it/s]"
     ]
    }
   ],
   "source": [
    "data_train, labels_train, data_val, labels_val = generate_train_test_val(M1, M2)\n",
    "\n",
    "# print data dimensions\n",
    "print( \"Train data shape: \" + str( data_train.shape ), flush=True)\n",
    "print( \"Train labels shape: \" + str( labels_train.shape ), flush=True)\n",
    "print( \"Val data shape: \" + str( data_val.shape ), flush=True)\n",
    "print( \"Val labels shape: \" + str( labels_val.shape ), flush=True)\n",
    "\n",
    "\n",
    "# Define the NN parameters\n",
    "\n",
    "full_sup_AUC = {i:0 for i in range(3)}\n",
    "full_sup_maxsic = {i:0 for i in range(3)}\n",
    "fixed_TPR = 0.5\n",
    "full_sup_FPRatTPR = {i:0 for i in range(3)}\n",
    "\n",
    "input_shape = model_dim   \n",
    "num_epochs = 1000\n",
    "batch_size = 400\n",
    "update_epochs = 10\n",
    "lr = 0.001\n",
    "\n",
    "# Run the NN\n",
    "\n",
    "for trait in range(sig_reps.shape[1]): # going through the layers of the transformer\n",
    "    \n",
    "    print(\"On layer\", trait)\n",
    "    \n",
    "\n",
    "    performance_stats = create_and_run_nn(device, input_shape, num_epochs, batch_size, update_epochs, lr, \n",
    "                          data_train[:,trait,:], labels_train, \n",
    "                          data_val[:,trait,:], labels_val,\n",
    "                          STS_reps[:,trait,:], STS_labels, \n",
    "                          verbose = True, early_stop = True, LRschedule = False)\n",
    "        \n",
    "\n",
    "    # Plot the output losses   \n",
    "    plt.figure()\n",
    "    plt.plot(performance_stats[\"epochs\"],performance_stats[\"losses\"], label = \"loss\")\n",
    "    plt.plot(performance_stats[\"val_epochs\"],performance_stats[\"val_losses\"], label = \"val loss\")\n",
    "    plt.xlabel(\"Epochs\")\n",
    "    plt.ylabel(\"Losses\")\n",
    "    plt.yscale(\"log\")\n",
    "    plt.legend()\n",
    "    plt.title(trait)\n",
    "    plt.show()\n",
    "\n",
    "    plt.figure()\n",
    "    plt.plot(performance_stats[\"tpr\"], 1.0/performance_stats[\"fpr\"])\n",
    "    plt.yscale(\"log\")\n",
    "    plt.xlabel(\"True Positive Rate\")\n",
    "    plt.ylabel(\"1/(False Positive Rate)\")\n",
    "    plt.title(trait)\n",
    "    plt.show()\n",
    "\n",
    "    print(\"Accuracy of the network: %d %%\" % (100.00 *performance_stats[\"acc\"]))\n",
    "    print(\"ROC AUC:\", performance_stats[\"auc\"])\n",
    "    \n",
    "    full_sup_AUC[trait] = performance_stats[\"auc\"]\n",
    "    \n",
    "    SIC = performance_stats[\"tpr\"]/np.sqrt(performance_stats[\"fpr\"])\n",
    "    finite_SIC = SIC[np.isfinite(SIC)]\n",
    "    full_sup_maxsic[trait] = np.max(finite_SIC)\n",
    "    \n",
    "    dist_from_fixed_tpr = np.abs(performance_stats[\"tpr\"] - fixed_TPR)\n",
    "    min_dist_ind = np.where(dist_from_fixed_tpr == np.min(dist_from_fixed_tpr))[0][0]\n",
    "    full_sup_FPRatTPR[trait] = np.sqrt(performance_stats[\"fpr\"][min_dist_ind])\n",
    "    \n",
    "    \n"
   ]
  },
  {
   "cell_type": "markdown",
   "id": "34836721",
   "metadata": {},
   "source": [
    "# Testing the classifier (CWoLa)"
   ]
  },
  {
   "cell_type": "code",
   "execution_count": null,
   "id": "2dce7753",
   "metadata": {
    "scrolled": true
   },
   "outputs": [],
   "source": [
    "# Define the NN parameters\n",
    "\n",
    "input_shape = model_dim\n",
    "num_epochs = 1000\n",
    "batch_size = 400\n",
    "update_epochs = 10\n",
    "lr = 0.001\n",
    "\n",
    "visualize = False\n",
    "\n",
    "f1_vals = []\n",
    "ROC_AUC_vals = {i:[] for i in range(3)}\n",
    "maxsic_vals = {i:[] for i in range(3)}\n",
    "FPRatTPR_vals = {i:[] for i in range(3)}\n",
    "\n",
    "for f1 in np.linspace(0.5,.99,1):\n",
    "    \n",
    "    print(\"Starting CWoLa training run with f1 =\", f1)\n",
    "    f1_vals.append(f1)\n",
    "    \n",
    "    \n",
    "    # make the datasets / mixed samples\n",
    "    M1, M2 = generate_mixed_sample(sig_reps, bkg_reps, f1)\n",
    "    data_train, labels_train, data_val, labels_val = generate_train_test_val(M1, M2)\n",
    "\n",
    "    # print data dimensions\n",
    "    print( \"Train data shape: \" + str( data_train.shape ), flush=True)\n",
    "    print( \"Train labels shape: \" + str( labels_train.shape ), flush=True)\n",
    "    print( \"Val data shape: \" + str( data_val.shape ), flush=True)\n",
    "    print( \"Val labels shape: \" + str( labels_val.shape ), flush=True)\n",
    "\n",
    "    # Run the NN\n",
    "\n",
    "    for trait in range(sig_reps.shape[1]): # going through the layers of the transformer\n",
    "\n",
    "        print(\"On layer\", trait)\n",
    "        \n",
    "        # visualise the mixed samples\n",
    "        \n",
    "        if visualize:\n",
    "\n",
    "            S = np.reshape(M1[:,trait,:], (M1.shape[0]*M1.shape[2],1))\n",
    "            B = np.reshape(M2[:,trait,:], (M2.shape[0]*M2.shape[2],1))\n",
    "\n",
    "            bins = np.linspace(-.5,.4,60)\n",
    "            plt.figure()\n",
    "            plt.hist(S, bins, label = \"S\", alpha = 0.5)\n",
    "            plt.hist(B, bins, label = \"B\", alpha = 0.5)\n",
    "            plt.legend()\n",
    "            plt.title(\"Transformer layer \"+str(trait))\n",
    "            plt.show()\n",
    "\n",
    "        performance_stats = create_and_run_nn(device, input_shape, num_epochs, batch_size, update_epochs, lr, \n",
    "                              data_train[:,trait,:], labels_train, \n",
    "                              data_val[:,trait,:], labels_val,\n",
    "                              STS_reps[:,trait,:], STS_labels, \n",
    "                              verbose = True, early_stop = True, LRschedule = False)\n",
    "\n",
    "        if visualize:\n",
    "            # Plot the output losses   \n",
    "            plt.figure()\n",
    "            plt.plot(performance_stats[\"epochs\"],performance_stats[\"losses\"], label = \"loss\")\n",
    "            plt.plot(performance_stats[\"val_epochs\"],performance_stats[\"val_losses\"], label = \"val loss\")\n",
    "            plt.xlabel(\"Epochs\")\n",
    "            plt.ylabel(\"Losses\")\n",
    "            plt.yscale(\"log\")\n",
    "            plt.legend()\n",
    "            plt.title(trait)\n",
    "            plt.show()\n",
    "\n",
    "            plt.figure()\n",
    "            plt.plot(performance_stats[\"tpr\"], 1.0/performance_stats[\"fpr\"])\n",
    "            plt.yscale(\"log\")\n",
    "            plt.xlabel(\"True Positive Rate\")\n",
    "            plt.ylabel(\"1/(False Positive Rate)\")\n",
    "            plt.title(trait)\n",
    "            plt.show()\n",
    "\n",
    "        print(\"Accuracy of the network: %d %%\" % (100.00 *performance_stats[\"acc\"]))\n",
    "        print(\"ROC AUC:\", performance_stats[\"auc\"])\n",
    "        \n",
    "        ROC_AUC_vals[trait].append(performance_stats[\"auc\"])\n",
    "        \n",
    "        SIC = performance_stats[\"tpr\"]/np.sqrt(performance_stats[\"fpr\"])\n",
    "        finite_SIC = SIC[np.isfinite(SIC)]\n",
    "        maxsic_vals[trait].append(np.max(finite_SIC))\n",
    "\n",
    "        dist_from_fixed_tpr = np.abs(performance_stats[\"tpr\"] - fixed_TPR)\n",
    "        min_dist_ind = np.where(dist_from_fixed_tpr == np.min(dist_from_fixed_tpr))[0][0]\n",
    "        FPRatTPR_vals[trait].append(np.sqrt(performance_stats[\"fpr\"][min_dist_ind]))\n",
    "    \n",
    "        print()\n",
    "\n",
    "        "
   ]
  },
  {
   "cell_type": "code",
   "execution_count": null,
   "id": "c7b36280",
   "metadata": {},
   "outputs": [],
   "source": [
    "pdf_name = \"JetCLR_CWoLa_\"+str(model_dim)+\".pdf\"\n",
    "pp = PdfPages(pdf_name)\n",
    "    \n",
    "fig = plt.figure()\n",
    "for i in range(3):\n",
    "    plt.scatter(f1_vals, [max(x, 1.0-x) for x in ROC_AUC_vals[i]], label = \"CWoLa \"+str(i))\n",
    "plt.scatter(f1_vals, np.full(len(f1_vals), full_sup_AUC[i]), label = \"Full. Sup.\", color = \"k\")\n",
    "plt.legend()\n",
    "plt.ylim(0.5, 0.89)\n",
    "plt.xlabel(\"f1\")\n",
    "plt.ylabel(\"AUC\")\n",
    "plt.title(str(model_dim)+\"d latent space\")\n",
    "plt.show()\n",
    "pp.savefig(fig)\n",
    "\n",
    "\n",
    "fig = plt.figure()\n",
    "for i in range(3):\n",
    "    plt.scatter(f1_vals, maxsic_vals[i], label = \"CWoLa \"+str(i))\n",
    "plt.scatter(f1_vals, np.full(len(f1_vals), full_sup_maxsic[i]), label = \"Full. Sup.\", color = \"k\")\n",
    "plt.legend()\n",
    "plt.xlabel(\"f1\")\n",
    "plt.ylim(0.95, 2.7)\n",
    "plt.ylabel(\"maxSIC\")\n",
    "plt.title(str(model_dim)+\"d latent space\")\n",
    "plt.show()\n",
    "pp.savefig(fig)\n",
    "\n",
    "fig = plt.figure()\n",
    "for i in range(3):\n",
    "    plt.scatter(f1_vals, FPRatTPR_vals[i], label = \"CWoLa \"+str(i))\n",
    "plt.scatter(f1_vals, np.full(len(f1_vals), full_sup_FPRatTPR[i]), label = \"Full. Sup.\", color = \"k\")\n",
    "plt.legend()\n",
    "plt.xlabel(\"f1\")\n",
    "plt.ylabel(\"FPR @ TPR = 0.5\")\n",
    "plt.ylim(0.2, 0.75)\n",
    "plt.title(str(model_dim)+\"d latent space\")\n",
    "plt.show()\n",
    "pp.savefig(fig)\n",
    "\n",
    "\n",
    "pp.close()\n",
    "\n",
    "\n"
   ]
  },
  {
   "cell_type": "code",
   "execution_count": null,
   "id": "5e0db647",
   "metadata": {},
   "outputs": [],
   "source": []
  },
  {
   "cell_type": "code",
   "execution_count": null,
   "id": "f8295255",
   "metadata": {},
   "outputs": [],
   "source": []
  },
  {
   "cell_type": "code",
   "execution_count": null,
   "id": "958fc70a",
   "metadata": {},
   "outputs": [],
   "source": []
  },
  {
   "cell_type": "code",
   "execution_count": null,
   "id": "c85538a4",
   "metadata": {},
   "outputs": [],
   "source": []
  },
  {
   "cell_type": "code",
   "execution_count": null,
   "id": "5ad41f42",
   "metadata": {},
   "outputs": [],
   "source": []
  }
 ],
 "metadata": {
  "kernelspec": {
   "display_name": "Python 3",
   "language": "python",
   "name": "python3"
  },
  "language_info": {
   "codemirror_mode": {
    "name": "ipython",
    "version": 3
   },
   "file_extension": ".py",
   "mimetype": "text/x-python",
   "name": "python",
   "nbconvert_exporter": "python",
   "pygments_lexer": "ipython3",
   "version": "3.6.8"
  }
 },
 "nbformat": 4,
 "nbformat_minor": 5
}
