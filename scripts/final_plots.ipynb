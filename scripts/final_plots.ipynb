{
 "cells": [
  {
   "cell_type": "code",
   "execution_count": 7,
   "id": "abec36ed-7ee0-47dc-820e-a08b8a4ea193",
   "metadata": {},
   "outputs": [],
   "source": [
    "import numpy as np\n",
    "import matplotlib.pyplot as plt\n"
   ]
  },
  {
   "cell_type": "code",
   "execution_count": 8,
   "id": "8ce22a7c-0175-4b71-85e6-5cea14e032cf",
   "metadata": {},
   "outputs": [],
   "source": [
    "base_dir = \"/global/home/users/rrmastandrea/MJetCLR/\"  # change this to your working directory\n",
    "\n"
   ]
  },
  {
   "cell_type": "markdown",
   "id": "8b688e32-e305-41e5-827d-ec9170078365",
   "metadata": {},
   "source": [
    "# TPR / FPR"
   ]
  },
  {
   "cell_type": "code",
   "execution_count": 12,
   "id": "24d45dd4-f821-48c0-bff1-10d9d49bc2f7",
   "metadata": {},
   "outputs": [
    {
     "name": "stderr",
     "output_type": "stream",
     "text": [
      "/global/home/users/rrmastandrea/computingEnv/lib64/python3.6/site-packages/ipykernel_launcher.py:43: RuntimeWarning: divide by zero encountered in true_divide\n",
      "/global/home/users/rrmastandrea/computingEnv/lib64/python3.6/site-packages/ipykernel_launcher.py:44: RuntimeWarning: divide by zero encountered in true_divide\n",
      "/global/home/users/rrmastandrea/computingEnv/lib64/python3.6/site-packages/ipykernel_launcher.py:45: RuntimeWarning: divide by zero encountered in true_divide\n",
      "/global/home/users/rrmastandrea/computingEnv/lib64/python3.6/site-packages/ipykernel_launcher.py:46: RuntimeWarning: divide by zero encountered in true_divide\n",
      "/global/home/users/rrmastandrea/computingEnv/lib64/python3.6/site-packages/ipykernel_launcher.py:47: RuntimeWarning: divide by zero encountered in true_divide\n",
      "/global/home/users/rrmastandrea/computingEnv/lib64/python3.6/site-packages/ipykernel_launcher.py:48: RuntimeWarning: divide by zero encountered in true_divide\n"
     ]
    },
    {
     "data": {
      "image/png": "[encoded data removed]",
      "text/plain": [
       "<Figure size 432x288 with 1 Axes>"
      ]
     },
     "metadata": {
      "needs_background": "light"
     },
     "output_type": "display_data"
    }
   ],
   "source": [
    "# Load in the data\n",
    "\n",
    "exp_id_list = [\"col_split_10_40\", \"col_split_8_42\", \"col_split_6_44\", \"col_split_4_46\", \"col_split_2_48\"]\n",
    "exp_id_list = [\"2909\"]\n",
    "\n",
    "\n",
    "\n",
    "lct_const_rep_tpr_dict = {}\n",
    "lct_const_rep_fpr_dict = {}\n",
    "nn_const_rep_tpr_dict = {}\n",
    "nn_const_rep_fpr_dict = {}\n",
    "trans_BC_tpr_dict = {}\n",
    "trans_BC_fpr_dict = {}\n",
    "lct_tpr_dict = {0:{},1:{},2:{}}\n",
    "lct_fpr_dict = {0:{},1:{},2:{}}\n",
    "\n",
    "for exp_id in exp_id_list:\n",
    "    expt_dir = base_dir + \"projects/rep_learning/experiments/\" + exp_id + \"/\"\n",
    "    #constit_num = exp_id.split(\"_\")[2]\n",
    "    constit_num = 20\n",
    "    \n",
    "    lct_const_rep_tpr_dict[exp_id] = np.load( expt_dir+\"const_rep_lct_tpr_\"+str(constit_num)+\".npy\" )\n",
    "    lct_const_rep_fpr_dict[exp_id] = np.load( expt_dir+\"const_rep_lct_fpr_\"+str(constit_num)+\".npy\" )\n",
    "    nn_const_rep_tpr_dict[exp_id] = np.load( expt_dir+\"const_rep_nn_tpr_\"+str(constit_num)+\".npy\" )\n",
    "    nn_const_rep_fpr_dict[exp_id] = np.load( expt_dir+\"const_rep_nn_fpr_\"+str(constit_num)+\".npy\" )\n",
    "    trans_BC_tpr_dict[exp_id] = np.load( expt_dir+\"trans_BC_tpr_\"+str(constit_num)+\".npy\" )\n",
    "    trans_BC_fpr_dict[exp_id] = np.load( expt_dir+\"trans_BC_fpr_\"+str(constit_num)+\".npy\" )\n",
    "    lct_tpr_dict[0][exp_id] = np.load( expt_dir+\"CLR_LCT0_tpr_\"+str(constit_num)+\".npy\" )\n",
    "    lct_fpr_dict[0][exp_id] = np.load( expt_dir+\"CLR_LCT0_fpr_\"+str(constit_num)+\".npy\" )\n",
    "    lct_tpr_dict[1][exp_id] = np.load( expt_dir+\"CLR_LCT1_tpr_\"+str(constit_num)+\".npy\" )\n",
    "    lct_fpr_dict[1][exp_id] = np.load( expt_dir+\"CLR_LCT1_fpr_\"+str(constit_num)+\".npy\" )\n",
    "    lct_tpr_dict[2][exp_id] = np.load( expt_dir+\"CLR_LCT2_tpr_\"+str(constit_num)+\".npy\" )\n",
    "    lct_fpr_dict[2][exp_id] = np.load( expt_dir+\"CLR_LCT2_fpr_\"+str(constit_num)+\".npy\" )\n",
    "\n",
    "\n",
    "\n",
    "\n",
    "plt.figure()\n",
    "\n",
    "\n",
    "for exp_id in exp_id_list:\n",
    "\n",
    "    plt.plot(lct_const_rep_tpr_dict[exp_id], 1.0/lct_const_rep_fpr_dict[exp_id], label = \"LCT Const. rep \"+exp_id)\n",
    "    plt.plot(nn_const_rep_tpr_dict[exp_id], 1.0/nn_const_rep_fpr_dict[exp_id], label = \"NN Const. rep \"+exp_id)\n",
    "    plt.plot(trans_BC_tpr_dict[exp_id], 1.0/trans_BC_fpr_dict[exp_id], label = \"Trans BC \"+exp_id)\n",
    "    plt.plot(lct_tpr_dict[0][exp_id], 1.0/lct_fpr_dict[0][exp_id], label = \"LCT0 \"+exp_id)\n",
    "    plt.plot(lct_tpr_dict[1][exp_id], 1.0/lct_fpr_dict[1][exp_id], label = \"LCT1 \"+exp_id)\n",
    "    plt.plot(lct_tpr_dict[2][exp_id], 1.0/lct_fpr_dict[2][exp_id], label = \"LCT2 \"+exp_id)\n",
    "    \n",
    "plt.yscale(\"log\")\n",
    "plt.xlabel(\"True Positive Rate\")\n",
    "plt.ylabel(\"1/(False Positive Rate)\")\n",
    "plt.legend()\n",
    "plt.show()\n",
    "\n"
   ]
  },
  {
   "cell_type": "markdown",
   "id": "b3592618-9fbb-4418-8181-592e5c9f8896",
   "metadata": {},
   "source": [
    "# Losses"
   ]
  },
  {
   "cell_type": "code",
   "execution_count": null,
   "id": "2b1534fb-87c5-4536-a07c-aa220e4cf1d8",
   "metadata": {},
   "outputs": [],
   "source": [
    "# load in data\n",
    "losses_clr_train_num_jets = {}\n",
    "losses_clr_numer_train_num_jets = {}\n",
    "losses_clr_denom_train_num_jets = {}\n",
    "losses_clr_val_train_num_jets = {}\n",
    "lct_auc_num_jets = {}\n",
    "nn_auc_num_jets = {}\n",
    "\n",
    "\n",
    "grading = 20\n",
    "start = grading\n",
    "n_constits_max = grading\n",
    "\n",
    "\n",
    "expt_dir = base_dir + \"projects/rep_learning/experiments/more_transformations/\"\n",
    "\n",
    "for constit_num in range(start,n_constits_max+grading,grading):\n",
    "\n",
    "    losses_clr_train_num_jets[constit_num] = np.load( expt_dir+\"clr_losses_train_\"+str(constit_num)+\".npy\")\n",
    "    losses_clr_numer_train_num_jets[constit_num] = np.load( expt_dir+\"clr_numer_loss_train_\"+str(constit_num)+\".npy\")\n",
    "    losses_clr_denom_train_num_jets[constit_num] = np.load( expt_dir+\"clr_denom_loss_train_\"+str(constit_num)+\".npy\")\n",
    "    losses_clr_val_train_num_jets[constit_num] = np.load( expt_dir+\"clr_losses_val_\"+str(constit_num)+\".npy\")\n",
    "    lct_auc_num_jets[constit_num] = np.load( expt_dir+\"lct_auc_\"+str(constit_num)+\".npy\")\n",
    "    nn_auc_num_jets[constit_num] = np.load( expt_dir+\"nn_auc_\"+str(constit_num)+\".npy\")\n",
    "\n",
    "    \n",
    "def plot_losses(list_of_plots, title, ylog = False):\n",
    "    \"\"\"\n",
    "    list_of_plots = [(plot_x, plot_y, label)]\n",
    "    \"\"\"\n",
    "    plt.figure()\n",
    "    for to_plot in list_of_plots:\n",
    "       \n",
    "        plt.plot(to_plot[0], to_plot[1], label=to_plot[2])\n",
    "    plt.legend()\n",
    "    if ylog:\n",
    "        plt.yscale(\"log\")\n",
    "    plt.xlabel(\"Epochs\")\n",
    "    plt.title(title)\n",
    "    plt.show()\n",
    "    \n",
    "    \n",
    "\"\"\"\n",
    "Plot the training contrastive losses\n",
    "\"\"\"\n",
    "plot_clr_losses = []\n",
    "for constit_num in range(start,n_constits_max+grading,grading):\n",
    "    plot_clr_losses.append((range(len(losses_clr_train_num_jets[constit_num])),\n",
    "                           losses_clr_train_num_jets[constit_num], \"CLR loss, \"+str(constit_num) + \" constits\"))\n",
    "    plot_clr_losses.append((losses_clr_val_train_num_jets[constit_num][0],\n",
    "                           losses_clr_val_train_num_jets[constit_num][1],\"Val loss, \"+str(constit_num) + \" constits\"))\n",
    "plot_losses(plot_clr_losses, \"Contrastive losses, training\", True)  \n",
    "    \n",
    "\"\"\"\n",
    "Plot the validation contrastive losses\n",
    "\"\"\"\n",
    "#plot_clr_val_losses = []\n",
    "#for constit_num in range(start,n_constits_max+grading,grading):\n",
    "#    plot_clr_val_losses.append((losses_clr_val_train_num_jets[constit_num][0],\n",
    "#                           losses_clr_val_train_num_jets[constit_num][1],str(constit_num) + \" constits\"))\n",
    "#plot_losses(plot_clr_val_losses, \"Contrastive losses, validation\", True)  \n",
    "\n",
    "\n",
    "\"\"\"\n",
    "Plot the LC + NN AUC\n",
    "\"\"\"\n",
    "\n",
    "plot_LCT_stats = []\n",
    "\n",
    "for constit_num in range(start,n_constits_max+grading,grading):\n",
    "    plot_LCT_stats.append((lct_auc_num_jets[constit_num][0], lct_auc_num_jets[constit_num][1],\n",
    "                             \"LC transformer, \"+str(constit_num) + \" constits\"))\n",
    "    plot_LCT_stats.append((lct_auc_num_jets[constit_num][0], lct_auc_num_jets[constit_num][2],\n",
    "                            \"LC hidden layer, \"+str(constit_num) + \" constits\"))\n",
    "    plot_LCT_stats.append((lct_auc_num_jets[constit_num][0], lct_auc_num_jets[constit_num][3],\n",
    "                            \"LC output layer, \"+str(constit_num) + \" constits\"))\n",
    "    plot_LCT_stats.append((nn_auc_num_jets[constit_num][0], nn_auc_num_jets[constit_num][1],\n",
    "                             \"NN, \"+ str(constit_num) + \" constits\"))\n",
    "    \n",
    "plot_losses(plot_LCT_stats, \"ROC Area\", False)  \n",
    "\n",
    "\n",
    "    \n",
    "    \n",
    "\"\"\"\n",
    "Plot the training contrastive losses num + denom\n",
    "\"\"\"\n",
    "\n",
    "plot_num_val_losses = []\n",
    "for constit_num in range(start,n_constits_max+grading,grading):\n",
    "    plot_num_val_losses.append((range(len(losses_clr_numer_train_num_jets[constit_num])),\n",
    "                           -losses_clr_numer_train_num_jets[constit_num], str(constit_num) + \" constits\"))\n",
    "plot_losses(plot_num_val_losses, \"-Alignment losses (should increase)\", True)  \n",
    "\n",
    "plot_den_val_losses = []\n",
    "for constit_num in range(start,n_constits_max+grading,grading):\n",
    "    plot_den_val_losses.append((range(len(losses_clr_denom_train_num_jets[constit_num])),\n",
    "                           -losses_clr_denom_train_num_jets[constit_num],  str(constit_num) + \" constits\"))\n",
    "plot_losses(plot_den_val_losses, \"-Uniformity losses (should decrease)\", True)  \n",
    "\n",
    "\n",
    "    "
   ]
  },
  {
   "cell_type": "code",
   "execution_count": null,
   "id": "7f2fb7d1-b81b-4749-a35e-d9522c9160bc",
   "metadata": {},
   "outputs": [],
   "source": []
  },
  {
   "cell_type": "code",
   "execution_count": null,
   "id": "cd92d6b3-85d6-4c94-80bd-13ee57ecf131",
   "metadata": {},
   "outputs": [],
   "source": []
  },
  {
   "cell_type": "code",
   "execution_count": null,
   "id": "4b2119b1",
   "metadata": {},
   "outputs": [],
   "source": []
  },
  {
   "cell_type": "code",
   "execution_count": null,
   "id": "082fd4ae",
   "metadata": {},
   "outputs": [],
   "source": []
  }
 ],
 "metadata": {
  "kernelspec": {
   "display_name": "Python 3",
   "language": "python",
   "name": "python3"
  },
  "language_info": {
   "codemirror_mode": {
    "name": "ipython",
    "version": 3
   },
   "file_extension": ".py",
   "mimetype": "text/x-python",
   "name": "python",
   "nbconvert_exporter": "python",
   "pygments_lexer": "ipython3",
   "version": "3.6.8"
  }
 },
 "nbformat": 4,
 "nbformat_minor": 5
}
